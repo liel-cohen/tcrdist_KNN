{
  "cells": [
    {
      "cell_type": "markdown",
      "metadata": {
        "id": "view-in-github",
        "colab_type": "text"
      },
      "source": [
        "<a href=\"https://colab.research.google.com/github/liel-cohen/tcrdist_KNN/blob/main/tcrdist3_for_KNN.ipynb\" target=\"_parent\"><img src=\"https://colab.research.google.com/assets/colab-badge.svg\" alt=\"Open In Colab\"/></a>"
      ]
    },
    {
      "cell_type": "markdown",
      "metadata": {
        "id": "oPLHsHcVQwZE"
      },
      "source": [
        "# **K Nearest Neighbour Classification using tcrdist3**"
      ]
    },
    {
      "cell_type": "markdown",
      "source": [
        " \n",
        "#### Background \n",
        "\n",
        "*   The analysis in this notebook was contributed by Machine Learning researcher\n",
        "and Ph.D. Candidate Liel Cohen-Lavi (Hertz Lab,  Ben Gurion University of the Negev). \n",
        "* The code uses tcrdist3 a Python package explained in more detail in *Mayer-Blackwell et al., eLife* [2022](https://elifesciences.org/articles/68605) and in a recent Spring Protocols book chapter ** Flexible Distance-Based \n",
        "TCR Analysis in Python with tcrdist3*, [2022](https://link.springer.com/protocol/10.1007/978-1-0716-2712-9_16). Additional documentation can be found at [tcrdist3.readthedocs.io](https://tcrdist3.readthedocs.io/en/latest/)."
      ],
      "metadata": {
        "id": "8OhDhhfXWr2g"
      }
    },
    {
      "cell_type": "markdown",
      "metadata": {
        "id": "QdH45TDPm2sb"
      },
      "source": [
        "#### Notebook Outline \n",
        "\n",
        "This notebook contains two separate, standalone examples for training a K Nearest Neighbour classifier using tcrdist as a distance metric, to classify epitope-specific TCRs to their epitope.\n",
        "* **Example 1: cross-validation model estimation.** We estimate the model's performance using cross-validation on a single dataset. The Dash paired-TCR dataset is used in this example.\n",
        "* **Example 2: train & test datasets.** We train the classifier on a training dataset, then test on an independent test dataset. The datasets used in this example were downloaded from https://github.com/IdoSpringer/ERGO-II/.\n",
        "\n",
        "The tcdrdist3 package (https://tcrdist3.readthedocs.io/en/latest/index.html) is used to compute tcrdist distance. The code allows using human or mouse TCRs, using CDR3 only or all CDRs (extracted from given v-genes by tcrdist3 code), and using a single chain or both chains. It tests the models and creates plots visualizing the results using several performance metrics.\n",
        "\n",
        "We hope this will be helpful."
      ]
    },
    {
      "cell_type": "markdown",
      "metadata": {
        "id": "kSsA0Y5FKtP0"
      },
      "source": [
        "## Installations and Imports"
      ]
    },
    {
      "cell_type": "code",
      "execution_count": null,
      "metadata": {
        "id": "No68bHznlWoo",
        "colab": {
          "base_uri": "https://localhost:8080/"
        },
        "outputId": "955e8df4-0bec-4da2-b456-a533bccf2b32"
      },
      "outputs": [
        {
          "output_type": "stream",
          "name": "stdout",
          "text": [
            "Looking in indexes: https://pypi.org/simple, https://us-python.pkg.dev/colab-wheels/public/simple/\n",
            "Collecting git+https://github.com/kmayerb/tcrdist3.git@0.2.2\n",
            "  Cloning https://github.com/kmayerb/tcrdist3.git (to revision 0.2.2) to /tmp/pip-req-build-0f0ya4a0\n",
            "  Running command git clone -q https://github.com/kmayerb/tcrdist3.git /tmp/pip-req-build-0f0ya4a0\n",
            "  Running command git checkout -q 04b0b8c2573d04a9d2cb77f7a3aeeed3a0eab167\n",
            "Requirement already satisfied: pandas>=0.24.2 in /usr/local/lib/python3.7/dist-packages (from tcrdist3==0.2.2) (1.3.5)\n",
            "Requirement already satisfied: numpy>=1.16.4 in /usr/local/lib/python3.7/dist-packages (from tcrdist3==0.2.2) (1.21.6)\n",
            "Requirement already satisfied: parasail>=1.1.17 in /usr/local/lib/python3.7/dist-packages (from tcrdist3==0.2.2) (1.3.3)\n",
            "Requirement already satisfied: scipy>=1.4.1 in /usr/local/lib/python3.7/dist-packages (from tcrdist3==0.2.2) (1.7.3)\n",
            "Requirement already satisfied: pwseqdist>=0.6 in /usr/local/lib/python3.7/dist-packages (from tcrdist3==0.2.2) (0.6)\n",
            "Requirement already satisfied: numba in /usr/local/lib/python3.7/dist-packages (from tcrdist3==0.2.2) (0.56.3)\n",
            "Requirement already satisfied: zipdist>=0.1.5 in /usr/local/lib/python3.7/dist-packages (from tcrdist3==0.2.2) (0.1.5)\n",
            "Requirement already satisfied: fishersapi in /usr/local/lib/python3.7/dist-packages (from tcrdist3==0.2.2) (0.5)\n",
            "Requirement already satisfied: hierdiff>=0.4 in /usr/local/lib/python3.7/dist-packages (from tcrdist3==0.2.2) (0.9)\n",
            "Requirement already satisfied: palmotif>=0.2 in /usr/local/lib/python3.7/dist-packages (from tcrdist3==0.2.2) (0.4)\n",
            "Requirement already satisfied: tcrsampler>=0.1.9 in /usr/local/lib/python3.7/dist-packages (from tcrdist3==0.2.2) (0.1.9)\n",
            "Requirement already satisfied: parmap>=1.5.2 in /usr/local/lib/python3.7/dist-packages (from tcrdist3==0.2.2) (1.6.0)\n",
            "Requirement already satisfied: olga>=1.2.1 in /usr/local/lib/python3.7/dist-packages (from tcrdist3==0.2.2) (1.2.4)\n",
            "Requirement already satisfied: dill>=0.3.2 in /usr/local/lib/python3.7/dist-packages (from tcrdist3==0.2.2) (0.3.5.1)\n",
            "Requirement already satisfied: jinja2>=2.10.1 in /usr/local/lib/python3.7/dist-packages (from hierdiff>=0.4->tcrdist3==0.2.2) (2.11.3)\n",
            "Requirement already satisfied: statsmodels>=0.10 in /usr/local/lib/python3.7/dist-packages (from hierdiff>=0.4->tcrdist3==0.2.2) (0.12.2)\n",
            "Requirement already satisfied: joblib>=0.16 in /usr/local/lib/python3.7/dist-packages (from hierdiff>=0.4->tcrdist3==0.2.2) (1.2.0)\n",
            "Requirement already satisfied: fisher in /usr/local/lib/python3.7/dist-packages (from fishersapi->tcrdist3==0.2.2) (0.1.10)\n",
            "Requirement already satisfied: MarkupSafe>=0.23 in /usr/local/lib/python3.7/dist-packages (from jinja2>=2.10.1->hierdiff>=0.4->tcrdist3==0.2.2) (2.0.1)\n",
            "Requirement already satisfied: svgwrite in /usr/local/lib/python3.7/dist-packages (from palmotif>=0.2->tcrdist3==0.2.2) (1.4.3)\n",
            "Requirement already satisfied: matplotlib in /usr/local/lib/python3.7/dist-packages (from palmotif>=0.2->tcrdist3==0.2.2) (3.2.2)\n",
            "Requirement already satisfied: pytz>=2017.3 in /usr/local/lib/python3.7/dist-packages (from pandas>=0.24.2->tcrdist3==0.2.2) (2022.5)\n",
            "Requirement already satisfied: python-dateutil>=2.7.3 in /usr/local/lib/python3.7/dist-packages (from pandas>=0.24.2->tcrdist3==0.2.2) (2.8.2)\n",
            "Requirement already satisfied: six>=1.5 in /usr/local/lib/python3.7/dist-packages (from python-dateutil>=2.7.3->pandas>=0.24.2->tcrdist3==0.2.2) (1.15.0)\n",
            "Requirement already satisfied: patsy>=0.5 in /usr/local/lib/python3.7/dist-packages (from statsmodels>=0.10->hierdiff>=0.4->tcrdist3==0.2.2) (0.5.3)\n",
            "Requirement already satisfied: progress>=1.5 in /usr/local/lib/python3.7/dist-packages (from tcrsampler>=0.1.9->tcrdist3==0.2.2) (1.6)\n",
            "Requirement already satisfied: feather-format>=0.4.1 in /usr/local/lib/python3.7/dist-packages (from zipdist>=0.1.5->tcrdist3==0.2.2) (0.4.1)\n",
            "Requirement already satisfied: pyarrow>=0.4.0 in /usr/local/lib/python3.7/dist-packages (from feather-format>=0.4.1->zipdist>=0.1.5->tcrdist3==0.2.2) (6.0.1)\n",
            "Requirement already satisfied: pyparsing!=2.0.4,!=2.1.2,!=2.1.6,>=2.0.1 in /usr/local/lib/python3.7/dist-packages (from matplotlib->palmotif>=0.2->tcrdist3==0.2.2) (3.0.9)\n",
            "Requirement already satisfied: cycler>=0.10 in /usr/local/lib/python3.7/dist-packages (from matplotlib->palmotif>=0.2->tcrdist3==0.2.2) (0.11.0)\n",
            "Requirement already satisfied: kiwisolver>=1.0.1 in /usr/local/lib/python3.7/dist-packages (from matplotlib->palmotif>=0.2->tcrdist3==0.2.2) (1.4.4)\n",
            "Requirement already satisfied: typing-extensions in /usr/local/lib/python3.7/dist-packages (from kiwisolver>=1.0.1->matplotlib->palmotif>=0.2->tcrdist3==0.2.2) (4.1.1)\n",
            "Requirement already satisfied: setuptools in /usr/local/lib/python3.7/dist-packages (from numba->tcrdist3==0.2.2) (57.4.0)\n",
            "Requirement already satisfied: importlib-metadata in /usr/local/lib/python3.7/dist-packages (from numba->tcrdist3==0.2.2) (4.13.0)\n",
            "Requirement already satisfied: llvmlite<0.40,>=0.39.0dev0 in /usr/local/lib/python3.7/dist-packages (from numba->tcrdist3==0.2.2) (0.39.1)\n",
            "Requirement already satisfied: zipp>=0.5 in /usr/local/lib/python3.7/dist-packages (from importlib-metadata->numba->tcrdist3==0.2.2) (3.9.0)\n"
          ]
        }
      ],
      "source": [
        "%pip install git+https://github.com/kmayerb/tcrdist3.git@0.2.2"
      ]
    },
    {
      "cell_type": "code",
      "execution_count": null,
      "metadata": {
        "id": "goW3DZ6Rl7CQ"
      },
      "outputs": [],
      "source": [
        "from tcrdist.repertoire import TCRrep\n",
        "import pwseqdist as pw\n",
        "\n",
        "from sklearn.model_selection import StratifiedKFold\n",
        "from sklearn.neighbors import KNeighborsClassifier\n",
        "from sklearn.preprocessing import OneHotEncoder\n",
        "from sklearn.metrics import roc_curve, auc, roc_auc_score, confusion_matrix, precision_score, recall_score, f1_score, accuracy_score\n",
        "\n",
        "import os\n",
        "import pandas as pd\n",
        "import numpy as np\n",
        "import seaborn as sns\n",
        "import matplotlib.pyplot as plt\n",
        "from matplotlib.patches import Rectangle\n",
        "import pickle"
      ]
    },
    {
      "cell_type": "markdown",
      "metadata": {
        "id": "bppClIiIprap"
      },
      "source": [
        "# **Example 1: Cross-Validation Model Estimation**\n",
        "\n",
        "#### The [Dash et al., 2017](https://www.nature.com/articles/nature22383) paired-TCR dataset (mouse only) is used in this example. We  estimate the model's performance using cross-validation on a single dataset. "
      ]
    },
    {
      "cell_type": "markdown",
      "metadata": {
        "id": "WS3lR7kNrfVq"
      },
      "source": [
        "### Parameters"
      ]
    },
    {
      "cell_type": "markdown",
      "metadata": {
        "id": "p9Ty6DNjjriA"
      },
      "source": [
        "Here we some parameter variables."
      ]
    },
    {
      "cell_type": "code",
      "execution_count": null,
      "metadata": {
        "id": "JNM-_ABO17Qg"
      },
      "outputs": [],
      "source": [
        "# <k_cv> - number of cross-validation folds\n",
        "k_cv = 5         \n",
        "# <k_neighbours> -  number of neighbours for KNN\n",
        "k_neighbours = 5  \n",
        "# <organism> - tcrdist3 accepts 'mouse' or 'human'\n",
        "organism = 'mouse'\n",
        "# <chains> - tcrdist3 accepts ['alpha', 'beta'] or ['alpha'] or ['beta']\n",
        "chains = ['alpha', 'beta'] \n",
        "# <cdr3> We can choose either 'cdr3' or 'all'. Choosing 'all' will \n",
        "# compute distances using CDR1,CDR2, and CDR2.5 as well as CDR3\n",
        "cdrs = 'all' "
      ]
    },
    {
      "cell_type": "markdown",
      "metadata": {
        "id": "Asz3nu6fjwJJ"
      },
      "source": [
        "check that user-input parameters are valid"
      ]
    },
    {
      "cell_type": "code",
      "execution_count": null,
      "metadata": {
        "id": "2J65gJcsZCgO"
      },
      "outputs": [],
      "source": [
        "# make sure input config params are valid\n",
        "#assert type(k_cv) is int\n",
        "assert isinstance(k_cv, int)\n",
        "assert type(k_neighbours) is int\n",
        "assert isinstance(k_neighbours, int)\n",
        "assert organism=='mouse' or organism=='human'\n",
        "assert cdrs=='all' or cdrs=='cdr3'\n",
        "assert chains==['alpha', 'beta'] or chains==['beta', 'alpha'] or chains==['alpha'] or chains==['beta']"
      ]
    },
    {
      "cell_type": "markdown",
      "metadata": {
        "id": "QwjC_d_nWHm7"
      },
      "source": [
        "### Load the Dash et al., 2017 mouse data"
      ]
    },
    {
      "cell_type": "code",
      "execution_count": null,
      "metadata": {
        "colab": {
          "base_uri": "https://localhost:8080/"
        },
        "id": "AE0_qPYkppxM",
        "outputId": "16d3d193-c639-404f-ba4b-73e810ac773b"
      },
      "outputs": [
        {
          "output_type": "stream",
          "name": "stdout",
          "text": [
            "df.columns: ['subject', 'epitope', 'count', 'v_a_gene', 'j_a_gene', 'cdr3_a_aa', 'cdr3_a_nucseq', 'v_b_gene', 'j_b_gene', 'cdr3_b_aa', 'cdr3_b_nucseq', 'clone_id']\n"
          ]
        },
        {
          "output_type": "execute_result",
          "data": {
            "text/plain": [
              "             subject epitope  count     v_a_gene   j_a_gene         cdr3_a_aa  \\\n",
              "0  mouse_subject0050      PA      2   TRAV7-3*01  TRAJ33*01     CAVSLDSNYQLIW   \n",
              "1  mouse_subject0050      PA      6  TRAV6D-6*01  TRAJ56*01  CALGDRATGGNNKLTF   \n",
              "2  mouse_subject0050      PA      1  TRAV6D-6*01  TRAJ49*01    CALGSNTGYQNFYF   \n",
              "3  mouse_subject0050      PA      2   TRAV6-4*01  TRAJ34*02     CALAPSNTNKVVF   \n",
              "4  mouse_subject0050      PA      1   TRAV6-4*01  TRAJ34*02     CALVPSNTNKVVF   \n",
              "\n",
              "                                      cdr3_a_nucseq     v_b_gene    j_b_gene  \\\n",
              "0           tgtgcagtgagcctcgatagcaactatcagttgatctgg  TRBV13-1*01  TRBJ2-3*01   \n",
              "1  tgtgctctgggtgacagggctactggaggcaataataagctgactttt    TRBV29*01  TRBJ1-1*01   \n",
              "2        tgtgctctgggctcgaacacgggttaccagaacttctatttt    TRBV29*01  TRBJ1-5*01   \n",
              "3           tgtgctctggccccttccaataccaacaaagtcgtcttt     TRBV2*01  TRBJ2-7*01   \n",
              "4           tgtgctctggtcccttccaataccaacaaagtcgtcttt    TRBV29*01  TRBJ2-4*01   \n",
              "\n",
              "           cdr3_b_aa                                      cdr3_b_nucseq  \\\n",
              "0  CASSDFDWGGDAETLYF  tgtgccagcagtgatttcgactggggaggggatgcagaaacgctgt...   \n",
              "1       CASSPDRGEVFF               tgtgctagcagtccggacaggggtgaagtcttcttt   \n",
              "2        CASTGGGAPLF                  tgtgctagcacagggggaggggctccgcttttt   \n",
              "3     CASSQDPGDYEQYF         tgtgccagcagccaagatcctggggactatgaacagtacttc   \n",
              "4      CASSLGGENTLYF            tgtgctagcagtttagggggggaaaacaccttgtacttt   \n",
              "\n",
              "              clone_id  \n",
              "0  mouse_tcr0072.clone  \n",
              "1  mouse_tcr0096.clone  \n",
              "2  mouse_tcr0276.clone  \n",
              "3  mouse_tcr0269.clone  \n",
              "4  mouse_tcr0285.clone  "
            ],
            "text/html": [
              "\n",
              "  <div id=\"df-866c2f5a-e954-42cf-b290-d39421782fd5\">\n",
              "    <div class=\"colab-df-container\">\n",
              "      <div>\n",
              "<style scoped>\n",
              "    .dataframe tbody tr th:only-of-type {\n",
              "        vertical-align: middle;\n",
              "    }\n",
              "\n",
              "    .dataframe tbody tr th {\n",
              "        vertical-align: top;\n",
              "    }\n",
              "\n",
              "    .dataframe thead th {\n",
              "        text-align: right;\n",
              "    }\n",
              "</style>\n",
              "<table border=\"1\" class=\"dataframe\">\n",
              "  <thead>\n",
              "    <tr style=\"text-align: right;\">\n",
              "      <th></th>\n",
              "      <th>subject</th>\n",
              "      <th>epitope</th>\n",
              "      <th>count</th>\n",
              "      <th>v_a_gene</th>\n",
              "      <th>j_a_gene</th>\n",
              "      <th>cdr3_a_aa</th>\n",
              "      <th>cdr3_a_nucseq</th>\n",
              "      <th>v_b_gene</th>\n",
              "      <th>j_b_gene</th>\n",
              "      <th>cdr3_b_aa</th>\n",
              "      <th>cdr3_b_nucseq</th>\n",
              "      <th>clone_id</th>\n",
              "    </tr>\n",
              "  </thead>\n",
              "  <tbody>\n",
              "    <tr>\n",
              "      <th>0</th>\n",
              "      <td>mouse_subject0050</td>\n",
              "      <td>PA</td>\n",
              "      <td>2</td>\n",
              "      <td>TRAV7-3*01</td>\n",
              "      <td>TRAJ33*01</td>\n",
              "      <td>CAVSLDSNYQLIW</td>\n",
              "      <td>tgtgcagtgagcctcgatagcaactatcagttgatctgg</td>\n",
              "      <td>TRBV13-1*01</td>\n",
              "      <td>TRBJ2-3*01</td>\n",
              "      <td>CASSDFDWGGDAETLYF</td>\n",
              "      <td>tgtgccagcagtgatttcgactggggaggggatgcagaaacgctgt...</td>\n",
              "      <td>mouse_tcr0072.clone</td>\n",
              "    </tr>\n",
              "    <tr>\n",
              "      <th>1</th>\n",
              "      <td>mouse_subject0050</td>\n",
              "      <td>PA</td>\n",
              "      <td>6</td>\n",
              "      <td>TRAV6D-6*01</td>\n",
              "      <td>TRAJ56*01</td>\n",
              "      <td>CALGDRATGGNNKLTF</td>\n",
              "      <td>tgtgctctgggtgacagggctactggaggcaataataagctgactttt</td>\n",
              "      <td>TRBV29*01</td>\n",
              "      <td>TRBJ1-1*01</td>\n",
              "      <td>CASSPDRGEVFF</td>\n",
              "      <td>tgtgctagcagtccggacaggggtgaagtcttcttt</td>\n",
              "      <td>mouse_tcr0096.clone</td>\n",
              "    </tr>\n",
              "    <tr>\n",
              "      <th>2</th>\n",
              "      <td>mouse_subject0050</td>\n",
              "      <td>PA</td>\n",
              "      <td>1</td>\n",
              "      <td>TRAV6D-6*01</td>\n",
              "      <td>TRAJ49*01</td>\n",
              "      <td>CALGSNTGYQNFYF</td>\n",
              "      <td>tgtgctctgggctcgaacacgggttaccagaacttctatttt</td>\n",
              "      <td>TRBV29*01</td>\n",
              "      <td>TRBJ1-5*01</td>\n",
              "      <td>CASTGGGAPLF</td>\n",
              "      <td>tgtgctagcacagggggaggggctccgcttttt</td>\n",
              "      <td>mouse_tcr0276.clone</td>\n",
              "    </tr>\n",
              "    <tr>\n",
              "      <th>3</th>\n",
              "      <td>mouse_subject0050</td>\n",
              "      <td>PA</td>\n",
              "      <td>2</td>\n",
              "      <td>TRAV6-4*01</td>\n",
              "      <td>TRAJ34*02</td>\n",
              "      <td>CALAPSNTNKVVF</td>\n",
              "      <td>tgtgctctggccccttccaataccaacaaagtcgtcttt</td>\n",
              "      <td>TRBV2*01</td>\n",
              "      <td>TRBJ2-7*01</td>\n",
              "      <td>CASSQDPGDYEQYF</td>\n",
              "      <td>tgtgccagcagccaagatcctggggactatgaacagtacttc</td>\n",
              "      <td>mouse_tcr0269.clone</td>\n",
              "    </tr>\n",
              "    <tr>\n",
              "      <th>4</th>\n",
              "      <td>mouse_subject0050</td>\n",
              "      <td>PA</td>\n",
              "      <td>1</td>\n",
              "      <td>TRAV6-4*01</td>\n",
              "      <td>TRAJ34*02</td>\n",
              "      <td>CALVPSNTNKVVF</td>\n",
              "      <td>tgtgctctggtcccttccaataccaacaaagtcgtcttt</td>\n",
              "      <td>TRBV29*01</td>\n",
              "      <td>TRBJ2-4*01</td>\n",
              "      <td>CASSLGGENTLYF</td>\n",
              "      <td>tgtgctagcagtttagggggggaaaacaccttgtacttt</td>\n",
              "      <td>mouse_tcr0285.clone</td>\n",
              "    </tr>\n",
              "  </tbody>\n",
              "</table>\n",
              "</div>\n",
              "      <button class=\"colab-df-convert\" onclick=\"convertToInteractive('df-866c2f5a-e954-42cf-b290-d39421782fd5')\"\n",
              "              title=\"Convert this dataframe to an interactive table.\"\n",
              "              style=\"display:none;\">\n",
              "        \n",
              "  <svg xmlns=\"http://www.w3.org/2000/svg\" height=\"24px\"viewBox=\"0 0 24 24\"\n",
              "       width=\"24px\">\n",
              "    <path d=\"M0 0h24v24H0V0z\" fill=\"none\"/>\n",
              "    <path d=\"M18.56 5.44l.94 2.06.94-2.06 2.06-.94-2.06-.94-.94-2.06-.94 2.06-2.06.94zm-11 1L8.5 8.5l.94-2.06 2.06-.94-2.06-.94L8.5 2.5l-.94 2.06-2.06.94zm10 10l.94 2.06.94-2.06 2.06-.94-2.06-.94-.94-2.06-.94 2.06-2.06.94z\"/><path d=\"M17.41 7.96l-1.37-1.37c-.4-.4-.92-.59-1.43-.59-.52 0-1.04.2-1.43.59L10.3 9.45l-7.72 7.72c-.78.78-.78 2.05 0 2.83L4 21.41c.39.39.9.59 1.41.59.51 0 1.02-.2 1.41-.59l7.78-7.78 2.81-2.81c.8-.78.8-2.07 0-2.86zM5.41 20L4 18.59l7.72-7.72 1.47 1.35L5.41 20z\"/>\n",
              "  </svg>\n",
              "      </button>\n",
              "      \n",
              "  <style>\n",
              "    .colab-df-container {\n",
              "      display:flex;\n",
              "      flex-wrap:wrap;\n",
              "      gap: 12px;\n",
              "    }\n",
              "\n",
              "    .colab-df-convert {\n",
              "      background-color: #E8F0FE;\n",
              "      border: none;\n",
              "      border-radius: 50%;\n",
              "      cursor: pointer;\n",
              "      display: none;\n",
              "      fill: #1967D2;\n",
              "      height: 32px;\n",
              "      padding: 0 0 0 0;\n",
              "      width: 32px;\n",
              "    }\n",
              "\n",
              "    .colab-df-convert:hover {\n",
              "      background-color: #E2EBFA;\n",
              "      box-shadow: 0px 1px 2px rgba(60, 64, 67, 0.3), 0px 1px 3px 1px rgba(60, 64, 67, 0.15);\n",
              "      fill: #174EA6;\n",
              "    }\n",
              "\n",
              "    [theme=dark] .colab-df-convert {\n",
              "      background-color: #3B4455;\n",
              "      fill: #D2E3FC;\n",
              "    }\n",
              "\n",
              "    [theme=dark] .colab-df-convert:hover {\n",
              "      background-color: #434B5C;\n",
              "      box-shadow: 0px 1px 3px 1px rgba(0, 0, 0, 0.15);\n",
              "      filter: drop-shadow(0px 1px 2px rgba(0, 0, 0, 0.3));\n",
              "      fill: #FFFFFF;\n",
              "    }\n",
              "  </style>\n",
              "\n",
              "      <script>\n",
              "        const buttonEl =\n",
              "          document.querySelector('#df-866c2f5a-e954-42cf-b290-d39421782fd5 button.colab-df-convert');\n",
              "        buttonEl.style.display =\n",
              "          google.colab.kernel.accessAllowed ? 'block' : 'none';\n",
              "\n",
              "        async function convertToInteractive(key) {\n",
              "          const element = document.querySelector('#df-866c2f5a-e954-42cf-b290-d39421782fd5');\n",
              "          const dataTable =\n",
              "            await google.colab.kernel.invokeFunction('convertToInteractive',\n",
              "                                                     [key], {});\n",
              "          if (!dataTable) return;\n",
              "\n",
              "          const docLinkHtml = 'Like what you see? Visit the ' +\n",
              "            '<a target=\"_blank\" href=https://colab.research.google.com/notebooks/data_table.ipynb>data table notebook</a>'\n",
              "            + ' to learn more about interactive tables.';\n",
              "          element.innerHTML = '';\n",
              "          dataTable['output_type'] = 'display_data';\n",
              "          await google.colab.output.renderOutput(dataTable, element);\n",
              "          const docLink = document.createElement('div');\n",
              "          docLink.innerHTML = docLinkHtml;\n",
              "          element.appendChild(docLink);\n",
              "        }\n",
              "      </script>\n",
              "    </div>\n",
              "  </div>\n",
              "  "
            ]
          },
          "metadata": {},
          "execution_count": 85
        }
      ],
      "source": [
        "df = pd.read_csv(\"https://raw.githubusercontent.com/kmayerb/tcrdist3/master/dash.csv\")\n",
        "print('df.columns:', list(df.columns))\n",
        "df.head()"
      ]
    },
    {
      "cell_type": "code",
      "execution_count": null,
      "metadata": {
        "colab": {
          "base_uri": "https://localhost:8080/"
        },
        "id": "_H4Pk6urqm4B",
        "outputId": "860c1596-96ac-459d-8ddb-af6a2d2c3e50"
      },
      "outputs": [
        {
          "output_type": "stream",
          "name": "stdout",
          "text": [
            "The dataset contains 1924 TCRs for 7 different epitopes. The amount of TCRs per epitope:\n",
            "\n"
          ]
        },
        {
          "output_type": "execute_result",
          "data": {
            "text/plain": [
              "PB1     642\n",
              "PA      324\n",
              "NP      305\n",
              "M45     291\n",
              "M38     158\n",
              "F2      117\n",
              "m139     87\n",
              "Name: epitope, dtype: int64"
            ]
          },
          "metadata": {},
          "execution_count": 86
        }
      ],
      "source": [
        "n_orig = df.shape[0]\n",
        "print(f'The dataset contains {df.shape[0]} TCRs for {len(df[\"epitope\"].unique())} different epitopes. The amount of TCRs per epitope:\\n')\n",
        "df['epitope'].value_counts()"
      ]
    },
    {
      "cell_type": "markdown",
      "source": [
        "#### Drop duplicates TCRs\n",
        "\n",
        "We want to avoid TCRs that are identical with the same epitope specificity from \n",
        "influencing our estimate of classifer performance. Thus we identify columns in addition to 'epitope' that define a duplicate TCR."
      ],
      "metadata": {
        "id": "CkBDOZIIH6Ky"
      }
    },
    {
      "cell_type": "code",
      "execution_count": null,
      "metadata": {
        "id": "zVgsLzIcraBQ"
      },
      "outputs": [],
      "source": [
        "# get col names to condiser for dropping duplicate TCRs \n",
        "drop_dup_cols = ['epitope']\n",
        "\n",
        "# add alpha chain col names\n",
        "if 'alpha' in chains and cdrs=='cdr3':\n",
        "    drop_dup_cols += ['cdr3_a_aa']\n",
        "elif 'alpha' in chains and cdrs=='all':\n",
        "    drop_dup_cols += ['cdr3_a_aa', 'v_a_gene', 'j_a_gene']\n",
        "\n",
        "# add beta chain col names\n",
        "if 'beta' in chains and cdrs=='cdr3':\n",
        "    drop_dup_cols += ['cdr3_b_aa']\n",
        "elif 'beta' in chains and cdrs=='all':\n",
        "    drop_dup_cols += ['cdr3_b_aa', 'v_b_gene', 'j_b_gene']"
      ]
    },
    {
      "cell_type": "markdown",
      "metadata": {
        "id": "Ehvj2nNixKAS"
      },
      "source": [
        "Drop duplicate TCRs for each epitope separately"
      ]
    },
    {
      "cell_type": "code",
      "execution_count": null,
      "metadata": {
        "colab": {
          "base_uri": "https://localhost:8080/"
        },
        "id": "C0PwF3JNrwf9",
        "outputId": "8111f045-837c-4bd8-9144-c5dd948e8ffa"
      },
      "outputs": [
        {
          "output_type": "stream",
          "name": "stdout",
          "text": [
            "Dropped 166 duplicate TCRs by columns ['epitope', 'cdr3_a_aa', 'v_a_gene', 'j_a_gene', 'cdr3_b_aa', 'v_b_gene', 'j_b_gene'].\n",
            "The new amount of TCRs per epitope:\n",
            "\n"
          ]
        },
        {
          "output_type": "execute_result",
          "data": {
            "text/plain": [
              "PB1     584\n",
              "PA      293\n",
              "M45     271\n",
              "NP      263\n",
              "M38     143\n",
              "F2      117\n",
              "m139     87\n",
              "Name: epitope, dtype: int64"
            ]
          },
          "metadata": {},
          "execution_count": 88
        }
      ],
      "source": [
        "df = df.drop_duplicates(subset=drop_dup_cols, keep='first').copy()\n",
        "df.reset_index(drop=True, inplace=True)\n",
        "print(f'Dropped {n_orig - df.shape[0]} duplicate TCRs by columns {drop_dup_cols}.')\n",
        "print(f'The new amount of TCRs per epitope:\\n')\n",
        "df['epitope'].value_counts()"
      ]
    },
    {
      "cell_type": "markdown",
      "metadata": {
        "id": "oVCw5ZA24EuX"
      },
      "source": [
        "### Compute Matrix of pairwise TCR distances between all receptors"
      ]
    },
    {
      "cell_type": "markdown",
      "metadata": {
        "id": "-RZujJCrREyL"
      },
      "source": [
        "*If asked to use all cdrs to compute tcrdist distances, compute it when TCRrep object is initialized. If asked to use only CDR3, the TCRrep object metric parameters need to be altered before computing the distances."
      ]
    },
    {
      "cell_type": "code",
      "source": [
        "tr = TCRrep(cell_df=df,\n",
        "            organism=organism, \n",
        "            chains=chains,\n",
        "            deduplicate=True)\n",
        "\n",
        "# <X> will be our matrix of distances, which will depend on <chains> and <cdrs>\n",
        "X = None\n",
        "if cdrs=='all':\n",
        "    if chains==['alpha', 'beta'] or chains==['beta', 'alpha']:\n",
        "        X = pd.DataFrame(tr.pw_alpha + tr.pw_beta)\n",
        "    elif chains==['alpha']:\n",
        "        X = pd.DataFrame(tr.pw_alpha)\n",
        "    elif chains==['beta']:\n",
        "        X = pd.DataFrame(tr.pw_beta)\n",
        "if cdrs=='cdr3':\n",
        "    if chains==['alpha', 'beta'] or chains==['beta', 'alpha']:\n",
        "        X = pd.DataFrame(tr.pw_cdr3_a_aa + tr.pw_cdr3_b_aa)\n",
        "    elif chains==['alpha']:\n",
        "        X = pd.DataFrame(tr.pw_cdr3_a_aa)\n",
        "    elif chains==['beta']:\n",
        "        X = pd.DataFrame(tr.pw_cdr3_b_aa)\n",
        "assert X is not None"
      ],
      "metadata": {
        "id": "SVmx5V9XJryY"
      },
      "execution_count": null,
      "outputs": []
    },
    {
      "cell_type": "code",
      "execution_count": null,
      "metadata": {
        "id": "Nd7wVmg_SoWC"
      },
      "outputs": [],
      "source": [
        "Y = tr.clone_df['epitope'].copy() # target labels"
      ]
    },
    {
      "cell_type": "code",
      "execution_count": null,
      "metadata": {
        "id": "BgmOLn0Mt6Lz"
      },
      "outputs": [],
      "source": [
        "# Make sure X and Y are valid\n",
        "assert X.shape[0] == X.shape[1], f'assert X shape is nXn: {X.shape[0]} == {X.shape[1]} ?'\n",
        "#assert X.shape[0] == df.shape[0], f'assert X dimension equals df dimension: {X.shape[0]} == {df.shape[0]} ?'\n",
        "assert X.shape[0] == Y.shape[0],  f'assert Y length = n: {X.shape[0]} == {Y.shape[0]} ?'\n",
        "\n",
        "X.index = list(X.index) # change from range to int if needed\n",
        "Y.index = list(Y.index) # change from range to int if needed\n",
        "assert (X.index.equals(Y.index)), f'assert X and Y indices are equal' "
      ]
    },
    {
      "cell_type": "markdown",
      "metadata": {
        "id": "JSuYQFty4lR5"
      },
      "source": [
        "### Perform CV"
      ]
    },
    {
      "cell_type": "code",
      "source": [
        "# dfs for storing metrics \n",
        "metrics_cv_df = pd.DataFrame(columns=['AUC', 'Accuracy', 'Recall', 'Precision'])\n",
        "auc_cv_df = pd.DataFrame(columns=Y.unique())\n",
        "recall_cv_df = pd.DataFrame(columns=Y.unique())\n",
        "precision_cv_df = pd.DataFrame(columns=Y.unique())\n",
        "\n",
        "# df for storing predictions (for confusion matrix)\n",
        "preds_df = pd.DataFrame(columns=['y_true', 'y_pred'], index=Y.index)"
      ],
      "metadata": {
        "id": "rtxOi_DIdFn3"
      },
      "execution_count": null,
      "outputs": []
    },
    {
      "cell_type": "code",
      "execution_count": null,
      "metadata": {
        "colab": {
          "base_uri": "https://localhost:8080/"
        },
        "id": "Mkg6p9rnuCAE",
        "outputId": "dce53ed1-2153-4a5c-fab4-8140ed1349d7"
      },
      "outputs": [
        {
          "output_type": "execute_result",
          "data": {
            "text/plain": [
              "        AUC  Accuracy    Recall  Precision\n",
              "0  0.909178  0.781250  0.740560   0.754827\n",
              "1  0.906072  0.795455  0.749973   0.775966\n",
              "2  0.892658  0.767045  0.729005   0.737586\n",
              "3  0.927754  0.811966  0.760594   0.770379\n",
              "4  0.928508  0.797721  0.759821   0.774778"
            ],
            "text/html": [
              "\n",
              "  <div id=\"df-1a9c2f4a-32df-4a63-86bf-3bfefd6487d2\">\n",
              "    <div class=\"colab-df-container\">\n",
              "      <div>\n",
              "<style scoped>\n",
              "    .dataframe tbody tr th:only-of-type {\n",
              "        vertical-align: middle;\n",
              "    }\n",
              "\n",
              "    .dataframe tbody tr th {\n",
              "        vertical-align: top;\n",
              "    }\n",
              "\n",
              "    .dataframe thead th {\n",
              "        text-align: right;\n",
              "    }\n",
              "</style>\n",
              "<table border=\"1\" class=\"dataframe\">\n",
              "  <thead>\n",
              "    <tr style=\"text-align: right;\">\n",
              "      <th></th>\n",
              "      <th>AUC</th>\n",
              "      <th>Accuracy</th>\n",
              "      <th>Recall</th>\n",
              "      <th>Precision</th>\n",
              "    </tr>\n",
              "  </thead>\n",
              "  <tbody>\n",
              "    <tr>\n",
              "      <th>0</th>\n",
              "      <td>0.909178</td>\n",
              "      <td>0.781250</td>\n",
              "      <td>0.740560</td>\n",
              "      <td>0.754827</td>\n",
              "    </tr>\n",
              "    <tr>\n",
              "      <th>1</th>\n",
              "      <td>0.906072</td>\n",
              "      <td>0.795455</td>\n",
              "      <td>0.749973</td>\n",
              "      <td>0.775966</td>\n",
              "    </tr>\n",
              "    <tr>\n",
              "      <th>2</th>\n",
              "      <td>0.892658</td>\n",
              "      <td>0.767045</td>\n",
              "      <td>0.729005</td>\n",
              "      <td>0.737586</td>\n",
              "    </tr>\n",
              "    <tr>\n",
              "      <th>3</th>\n",
              "      <td>0.927754</td>\n",
              "      <td>0.811966</td>\n",
              "      <td>0.760594</td>\n",
              "      <td>0.770379</td>\n",
              "    </tr>\n",
              "    <tr>\n",
              "      <th>4</th>\n",
              "      <td>0.928508</td>\n",
              "      <td>0.797721</td>\n",
              "      <td>0.759821</td>\n",
              "      <td>0.774778</td>\n",
              "    </tr>\n",
              "  </tbody>\n",
              "</table>\n",
              "</div>\n",
              "      <button class=\"colab-df-convert\" onclick=\"convertToInteractive('df-1a9c2f4a-32df-4a63-86bf-3bfefd6487d2')\"\n",
              "              title=\"Convert this dataframe to an interactive table.\"\n",
              "              style=\"display:none;\">\n",
              "        \n",
              "  <svg xmlns=\"http://www.w3.org/2000/svg\" height=\"24px\"viewBox=\"0 0 24 24\"\n",
              "       width=\"24px\">\n",
              "    <path d=\"M0 0h24v24H0V0z\" fill=\"none\"/>\n",
              "    <path d=\"M18.56 5.44l.94 2.06.94-2.06 2.06-.94-2.06-.94-.94-2.06-.94 2.06-2.06.94zm-11 1L8.5 8.5l.94-2.06 2.06-.94-2.06-.94L8.5 2.5l-.94 2.06-2.06.94zm10 10l.94 2.06.94-2.06 2.06-.94-2.06-.94-.94-2.06-.94 2.06-2.06.94z\"/><path d=\"M17.41 7.96l-1.37-1.37c-.4-.4-.92-.59-1.43-.59-.52 0-1.04.2-1.43.59L10.3 9.45l-7.72 7.72c-.78.78-.78 2.05 0 2.83L4 21.41c.39.39.9.59 1.41.59.51 0 1.02-.2 1.41-.59l7.78-7.78 2.81-2.81c.8-.78.8-2.07 0-2.86zM5.41 20L4 18.59l7.72-7.72 1.47 1.35L5.41 20z\"/>\n",
              "  </svg>\n",
              "      </button>\n",
              "      \n",
              "  <style>\n",
              "    .colab-df-container {\n",
              "      display:flex;\n",
              "      flex-wrap:wrap;\n",
              "      gap: 12px;\n",
              "    }\n",
              "\n",
              "    .colab-df-convert {\n",
              "      background-color: #E8F0FE;\n",
              "      border: none;\n",
              "      border-radius: 50%;\n",
              "      cursor: pointer;\n",
              "      display: none;\n",
              "      fill: #1967D2;\n",
              "      height: 32px;\n",
              "      padding: 0 0 0 0;\n",
              "      width: 32px;\n",
              "    }\n",
              "\n",
              "    .colab-df-convert:hover {\n",
              "      background-color: #E2EBFA;\n",
              "      box-shadow: 0px 1px 2px rgba(60, 64, 67, 0.3), 0px 1px 3px 1px rgba(60, 64, 67, 0.15);\n",
              "      fill: #174EA6;\n",
              "    }\n",
              "\n",
              "    [theme=dark] .colab-df-convert {\n",
              "      background-color: #3B4455;\n",
              "      fill: #D2E3FC;\n",
              "    }\n",
              "\n",
              "    [theme=dark] .colab-df-convert:hover {\n",
              "      background-color: #434B5C;\n",
              "      box-shadow: 0px 1px 3px 1px rgba(0, 0, 0, 0.15);\n",
              "      filter: drop-shadow(0px 1px 2px rgba(0, 0, 0, 0.3));\n",
              "      fill: #FFFFFF;\n",
              "    }\n",
              "  </style>\n",
              "\n",
              "      <script>\n",
              "        const buttonEl =\n",
              "          document.querySelector('#df-1a9c2f4a-32df-4a63-86bf-3bfefd6487d2 button.colab-df-convert');\n",
              "        buttonEl.style.display =\n",
              "          google.colab.kernel.accessAllowed ? 'block' : 'none';\n",
              "\n",
              "        async function convertToInteractive(key) {\n",
              "          const element = document.querySelector('#df-1a9c2f4a-32df-4a63-86bf-3bfefd6487d2');\n",
              "          const dataTable =\n",
              "            await google.colab.kernel.invokeFunction('convertToInteractive',\n",
              "                                                     [key], {});\n",
              "          if (!dataTable) return;\n",
              "\n",
              "          const docLinkHtml = 'Like what you see? Visit the ' +\n",
              "            '<a target=\"_blank\" href=https://colab.research.google.com/notebooks/data_table.ipynb>data table notebook</a>'\n",
              "            + ' to learn more about interactive tables.';\n",
              "          element.innerHTML = '';\n",
              "          dataTable['output_type'] = 'display_data';\n",
              "          await google.colab.output.renderOutput(dataTable, element);\n",
              "          const docLink = document.createElement('div');\n",
              "          docLink.innerHTML = docLinkHtml;\n",
              "          element.appendChild(docLink);\n",
              "        }\n",
              "      </script>\n",
              "    </div>\n",
              "  </div>\n",
              "  "
            ]
          },
          "metadata": {},
          "execution_count": 93
        }
      ],
      "source": [
        "# Get CV folds\n",
        "kfolds = StratifiedKFold(n_splits=k_cv, shuffle=True, random_state=1)\n",
        "kfolds.get_n_splits(X)\n",
        "\n",
        "# perform CV\n",
        "for train_ind, test_ind in kfolds.split(X, Y):\n",
        "    # split data\n",
        "    X_train, X_test = X.iloc[train_ind, train_ind], X.iloc[test_ind, train_ind]\n",
        "    Y_train, Y_test = Y.iloc[train_ind], Y.iloc[test_ind]\n",
        "\n",
        "    # train model\n",
        "    model = KNeighborsClassifier(n_neighbors=k_neighbours, metric='precomputed', weights='distance') \n",
        "    model.fit(X_train, Y_train.ravel())\n",
        "\n",
        "    # get predictions\n",
        "    preds_labels = model.predict(X_test)\n",
        "    preds_prob = model.predict_proba(X_test)\n",
        "\n",
        "    # store in df\n",
        "    preds_df.loc[Y_test.index, 'y_true'] = Y_test.loc[Y_test.index].values\n",
        "    preds_df.loc[Y_test.index, 'y_pred'] = preds_labels\n",
        "\n",
        "    ###--- calculate performance metrics\n",
        "\n",
        "    # calculate & store average metrics\n",
        "    Y_test_matrix = OneHotEncoder(categories=[model.classes_]).fit_transform(Y_test.values.reshape(-1, 1)).toarray()\n",
        "\n",
        "    roc_auc_fold = roc_auc_score(Y_test_matrix, preds_prob, multi_class='ovr', average='macro')\n",
        "    accuracy_fold = accuracy_score(Y_test, preds_labels)\n",
        "    precision_fold = precision_score(Y_test, preds_labels, average='macro') # macro - simplest, unweighted mean between all classes\n",
        "    recall_fold = recall_score(Y_test, preds_labels, average='macro') # macro - simplest, unweighted mean between all classes\n",
        "    \n",
        "    metrics_cv_df = metrics_cv_df.append(pd.Series({'AUC': roc_auc_fold, 'Accuracy': accuracy_fold, \n",
        "                                                    'Recall': recall_fold, 'Precision': precision_fold}), ignore_index=True)\n",
        "\n",
        "    # calculate & store AUC per epitope\n",
        "    roc_auc_epitopes = roc_auc_score(Y_test_matrix, preds_prob, multi_class='ovr', average=None)\n",
        "    auc_cv_df = auc_cv_df.append(pd.Series(roc_auc_epitopes, index=model.classes_), ignore_index=True)\n",
        "\n",
        "    # calculate & store recall per epitope\n",
        "    recall_epitopes = recall_score(Y_test, preds_labels, average=None)\n",
        "    recall_cv_df = recall_cv_df.append(pd.Series(recall_epitopes, index=model.classes_), ignore_index=True)\n",
        "\n",
        "    # calculate & store recall per epitope\n",
        "    precision_epitopes = precision_score(Y_test, preds_labels, average=None)\n",
        "    precision_cv_df = precision_cv_df.append(pd.Series(precision_epitopes, index=model.classes_), ignore_index=True)\n",
        "\n",
        "metrics_cv_df"
      ]
    },
    {
      "cell_type": "markdown",
      "metadata": {
        "id": "yqz0ktp541kd"
      },
      "source": [
        "### Plot results"
      ]
    },
    {
      "cell_type": "markdown",
      "metadata": {
        "id": "iFjBdriWYhjN"
      },
      "source": [
        "Plot confusion matrix (for all folds together)"
      ]
    },
    {
      "cell_type": "code",
      "source": [
        "# get confusion matrices\n",
        "epitopes = list(preds_df['y_true'].unique())\n",
        "conf_mat_dash = pd.DataFrame(confusion_matrix(preds_df['y_true'], preds_df['y_pred']), columns=epitopes, index=epitopes)\n",
        "conf_mat_dash_norm = pd.DataFrame(confusion_matrix(preds_df['y_true'], preds_df['y_pred'], normalize='true'), columns=epitopes, index=epitopes)"
      ],
      "metadata": {
        "id": "il2PKON-Y26j"
      },
      "execution_count": null,
      "outputs": []
    },
    {
      "cell_type": "code",
      "execution_count": null,
      "metadata": {
        "colab": {
          "base_uri": "https://localhost:8080/"
        },
        "outputId": "82a2c3b7-2d1f-4454-d223-61ed2156460d",
        "id": "3qsbl3BAYhjO"
      },
      "outputs": [
        {
          "output_type": "display_data",
          "data": {
            "text/plain": [
              "<Figure size 1008x504 with 4 Axes>"
            ],
            "image/png": "[encoded data removed]"
          },
          "metadata": {}
        }
      ],
      "source": [
        "# plot\n",
        "fig, axes = plt.subplots(nrows=1, ncols=2, figsize=(14,7))\n",
        "sns.set_context(font_scale=1.3)\n",
        "sns.heatmap(conf_mat_dash, annot=True, cmap='Blues', fmt='', ax=axes[0], square=True, annot_kws={\"size\": 13}, vmin=0)\n",
        "axes[0].set_xlabel('Predicted', fontsize=15)\n",
        "axes[0].set_ylabel('True', fontsize=15)\n",
        "axes[0].set_title('Confusion matrix', fontsize=17)\n",
        "\n",
        "sns.heatmap(conf_mat_dash_norm, annot=True, cmap='Greens', fmt='.2f', ax=axes[1], square=True, annot_kws={\"size\": 13}, vmin=0)\n",
        "axes[1].set_title('Confusion matrix, normalized', fontsize=17)\n",
        "axes[1].set_xlabel('Predicted', fontsize=15)\n",
        "axes[1].set_ylabel('True', fontsize=15)\n",
        "\n",
        "for epi_ind in range(conf_mat_dash.shape[0]):\n",
        "    axes[0].add_patch(Rectangle((epi_ind, epi_ind), 1, 1, ec='black', fc='none', lw=1.5, clip_on=False))\n",
        "    axes[1].add_patch(Rectangle((epi_ind, epi_ind), 1, 1, ec='black', fc='none', lw=1.5, clip_on=False))\n",
        "\n",
        "plt.tight_layout()"
      ]
    },
    {
      "cell_type": "markdown",
      "source": [
        "Plot metrics"
      ],
      "metadata": {
        "id": "jUiYDO5DYmK6"
      }
    },
    {
      "cell_type": "code",
      "execution_count": null,
      "metadata": {
        "colab": {
          "base_uri": "https://localhost:8080/"
        },
        "id": "oxV45kGo2PmR",
        "outputId": "63c8175b-372f-4e08-8edf-6cd83f7dbaba"
      },
      "outputs": [
        {
          "output_type": "display_data",
          "data": {
            "text/plain": [
              "<Figure size 1944x432 with 4 Axes>"
            ],
            "image/png": "[encoded data removed]"
          },
          "metadata": {}
        },
        {
          "output_type": "stream",
          "name": "stdout",
          "text": [
            "(mean over folds)\n"
          ]
        }
      ],
      "source": [
        "### Plot boxplots\n",
        "sns.set(font_scale=1.2)\n",
        "sns.set_style('white')\n",
        "\n",
        "fig, axes = plt.subplots(nrows=1, ncols=4, figsize=(27, 6), sharey=True)\n",
        "\n",
        "# average metrics plot\n",
        "sns.boxplot(data=metrics_cv_df, ax=axes[0], showfliers=False, color='c')\n",
        "sns.stripplot(data=metrics_cv_df, ax=axes[0], jitter=0.15, size=6,\n",
        "                        alpha=0.6,\n",
        "                        edgecolor='black', linewidth=0.5,\n",
        "                        color='black')\n",
        "axes[0].set_xticklabels([metric + f'\\n({metrics_cv_df[metric].mean():.3f})' for metric in metrics_cv_df.columns])\n",
        "axes[0].set_ylabel('Average (over epitopes)', fontsize=15)\n",
        "axes[0].set_xlabel('Metric', fontsize=15)\n",
        "\n",
        "# metrics per epitope plots\n",
        "def plot_metric_per_epitope(metric_df, ax, metric_name):\n",
        "  sns.boxplot(data=metric_df, ax=ax, showfliers=False, palette='Set3')\n",
        "  sns.stripplot(data=metric_df, ax=ax, jitter=0.15, size=6,\n",
        "                          alpha=0.6,\n",
        "                          edgecolor='black', linewidth=0.5,\n",
        "                          color='black')\n",
        "  ax.set_xlabel('Epitope', fontsize=15)\n",
        "  ax.set_ylabel(f'{metric_name}', fontsize=15)\n",
        "  ax.set_xticklabels([epi + f'\\n({metric_df[epi].mean():.3f})' for epi in metric_df.columns])\n",
        "\n",
        "plot_metric_per_epitope(auc_cv_df, axes[1], 'AUC')\n",
        "plot_metric_per_epitope(recall_cv_df, axes[2], 'Recall')\n",
        "plot_metric_per_epitope(precision_cv_df, axes[3], 'Precision')\n",
        "\n",
        "# finalize\n",
        "plt.ylim((0,1))\n",
        "plt.suptitle('Metrics per CV fold')\n",
        "plt.subplots_adjust(wspace=0.12)\n",
        "plt.show() # or plt.savefig('CV_results.jpg', dpi=500, , bbox_inches='tight')\n",
        "\n",
        "print('(mean over folds)')"
      ]
    },
    {
      "cell_type": "markdown",
      "metadata": {
        "id": "eUAlz7gN5QUN"
      },
      "source": [
        "# **Example 2: Train & Test Datasets**\n",
        "#### Train classifier on a train dataset, then test on another, independent test dataset.\n",
        "The datasets used were downloaded from https://github.com/IdoSpringer/ERGO-II/tree/master/Samples. These are pickle files (vdjdb_no10x_train_samples.pickle, vdjdb_no10x_test_samples.pickle), whcih can be converted into a pandas dataframes and csv files easily. For example:\n",
        "```python\n",
        "def load_from_pickle(path):\n",
        "    with open(path, 'rb') as f:\n",
        "        return pickle.load(f)\n",
        "\n",
        "df_train = load_from_pickle(\"vdjdb_no10x_train_samples.pickle\")\n",
        "df_train = pd.DataFrame.from_dict(df_train)\n",
        "df_train.to_csv(\"vdjdb_no10x_train_samples.csv\", index = False)\n",
        "```"
      ]
    },
    {
      "cell_type": "markdown",
      "metadata": {
        "id": "qSEtCFtTlddf"
      },
      "source": [
        "### Parameters"
      ]
    },
    {
      "cell_type": "markdown",
      "metadata": {
        "id": "wVBMtMGrlddg"
      },
      "source": [
        "Set manually"
      ]
    },
    {
      "cell_type": "code",
      "execution_count": null,
      "metadata": {
        "id": "7r41SQElbg4T"
      },
      "outputs": [],
      "source": [
        "# set params\n",
        "k_neighbours = 5\n",
        "organism = 'human' # 'mouse' or 'human'\n",
        "chains = ['alpha', 'beta'] # ['alpha', 'beta'] or ['alpha'] or ['beta']\n",
        "cdrs = 'all' # 'cdr3' or 'all'"
      ]
    },
    {
      "cell_type": "markdown",
      "metadata": {
        "id": "1sdIuJYolddh"
      },
      "source": [
        "validate user-inputs"
      ]
    },
    {
      "cell_type": "code",
      "execution_count": null,
      "metadata": {
        "id": "5f8dABGZbg4U"
      },
      "outputs": [],
      "source": [
        "# make sure input config params are valid\n",
        "assert organism=='mouse' or organism=='human'\n",
        "assert cdrs=='all' or cdrs=='cdr3'\n",
        "assert chains==['alpha', 'beta'] or chains==['beta', 'alpha'] or chains==['alpha'] or chains==['beta']"
      ]
    },
    {
      "cell_type": "code",
      "execution_count": null,
      "metadata": {
        "id": "gjc3nv_Kbg4U"
      },
      "outputs": [],
      "source": [
        "# get col names to condiser for dropping duplicate TCRs \n",
        "drop_dup_cols = ['epitope']\n",
        "\n",
        "# add alpha chain col names\n",
        "if 'alpha' in chains and cdrs=='cdr3':\n",
        "    drop_dup_cols += ['cdr3_a_aa']\n",
        "elif 'alpha' in chains and cdrs=='all':\n",
        "    drop_dup_cols += ['cdr3_a_aa', 'v_a_gene', 'j_a_gene']\n",
        "\n",
        "# add beta chain col names\n",
        "if 'beta' in chains and cdrs=='cdr3':\n",
        "    drop_dup_cols += ['cdr3_b_aa']\n",
        "elif 'beta' in chains and cdrs=='all':\n",
        "    drop_dup_cols += ['cdr3_b_aa', 'v_b_gene', 'j_b_gene']"
      ]
    },
    {
      "cell_type": "markdown",
      "metadata": {
        "id": "pMJxzULlMVAq"
      },
      "source": [
        "## Train"
      ]
    },
    {
      "cell_type": "markdown",
      "metadata": {
        "id": "bDtWBEP_cVW2"
      },
      "source": [
        "### Prepare training data"
      ]
    },
    {
      "cell_type": "code",
      "execution_count": null,
      "metadata": {
        "colab": {
          "base_uri": "https://localhost:8080/"
        },
        "id": "v2KAo_ZvW-RP",
        "outputId": "2795780a-6f9e-4dbc-8c07-edafa1d12f61"
      },
      "outputs": [
        {
          "output_type": "stream",
          "name": "stdout",
          "text": [
            "df_train.columns: ['tcra', 'tcrb', 'va', 'ja', 'vb', 'jb', 't_cell_type', 'peptide', 'protein', 'mhc', 'sign']\n"
          ]
        },
        {
          "output_type": "execute_result",
          "data": {
            "text/plain": [
              "  tcra              tcrb   va   ja           vb          jb t_cell_type  \\\n",
              "0  UNK   CAITEGGAHNYEQYF  UNK  UNK  TRBV10-3*01  TRBJ2-7*01        MHCI   \n",
              "1  UNK   CASSRQGNSNQPQYF  UNK  UNK    TRBV13*01  TRBJ1-5*01        MHCI   \n",
              "2  UNK   CATDLSRTSNQPQYF  UNK  UNK    TRBV15*01  TRBJ1-5*01        MHCI   \n",
              "3  UNK     CASSLGQAYEQYF  UNK  UNK   TRBV7-8*01  TRBJ2-7*01        MHCI   \n",
              "4  UNK  CASSLYYSRPNTEAFF  UNK  UNK   TRBV5-1*01  TRBJ1-1*01        MHCI   \n",
              "\n",
              "       peptide protein          mhc  sign  \n",
              "0    GILGFVFTL       M  HLA-A*02:01     0  \n",
              "1  YSEHPTFTSQY    pp65  HLA-A*01:01     0  \n",
              "2    GILGFVFTL       M  HLA-A*02:01     0  \n",
              "3  EPLPQGQLTAY   BZLF1  HLA-B*35:01     0  \n",
              "4    GILGFVFTL       M  HLA-A*02:01     0  "
            ],
            "text/html": [
              "\n",
              "  <div id=\"df-e831e0a9-bbdf-47c6-b540-78cf25d099cf\">\n",
              "    <div class=\"colab-df-container\">\n",
              "      <div>\n",
              "<style scoped>\n",
              "    .dataframe tbody tr th:only-of-type {\n",
              "        vertical-align: middle;\n",
              "    }\n",
              "\n",
              "    .dataframe tbody tr th {\n",
              "        vertical-align: top;\n",
              "    }\n",
              "\n",
              "    .dataframe thead th {\n",
              "        text-align: right;\n",
              "    }\n",
              "</style>\n",
              "<table border=\"1\" class=\"dataframe\">\n",
              "  <thead>\n",
              "    <tr style=\"text-align: right;\">\n",
              "      <th></th>\n",
              "      <th>tcra</th>\n",
              "      <th>tcrb</th>\n",
              "      <th>va</th>\n",
              "      <th>ja</th>\n",
              "      <th>vb</th>\n",
              "      <th>jb</th>\n",
              "      <th>t_cell_type</th>\n",
              "      <th>peptide</th>\n",
              "      <th>protein</th>\n",
              "      <th>mhc</th>\n",
              "      <th>sign</th>\n",
              "    </tr>\n",
              "  </thead>\n",
              "  <tbody>\n",
              "    <tr>\n",
              "      <th>0</th>\n",
              "      <td>UNK</td>\n",
              "      <td>CAITEGGAHNYEQYF</td>\n",
              "      <td>UNK</td>\n",
              "      <td>UNK</td>\n",
              "      <td>TRBV10-3*01</td>\n",
              "      <td>TRBJ2-7*01</td>\n",
              "      <td>MHCI</td>\n",
              "      <td>GILGFVFTL</td>\n",
              "      <td>M</td>\n",
              "      <td>HLA-A*02:01</td>\n",
              "      <td>0</td>\n",
              "    </tr>\n",
              "    <tr>\n",
              "      <th>1</th>\n",
              "      <td>UNK</td>\n",
              "      <td>CASSRQGNSNQPQYF</td>\n",
              "      <td>UNK</td>\n",
              "      <td>UNK</td>\n",
              "      <td>TRBV13*01</td>\n",
              "      <td>TRBJ1-5*01</td>\n",
              "      <td>MHCI</td>\n",
              "      <td>YSEHPTFTSQY</td>\n",
              "      <td>pp65</td>\n",
              "      <td>HLA-A*01:01</td>\n",
              "      <td>0</td>\n",
              "    </tr>\n",
              "    <tr>\n",
              "      <th>2</th>\n",
              "      <td>UNK</td>\n",
              "      <td>CATDLSRTSNQPQYF</td>\n",
              "      <td>UNK</td>\n",
              "      <td>UNK</td>\n",
              "      <td>TRBV15*01</td>\n",
              "      <td>TRBJ1-5*01</td>\n",
              "      <td>MHCI</td>\n",
              "      <td>GILGFVFTL</td>\n",
              "      <td>M</td>\n",
              "      <td>HLA-A*02:01</td>\n",
              "      <td>0</td>\n",
              "    </tr>\n",
              "    <tr>\n",
              "      <th>3</th>\n",
              "      <td>UNK</td>\n",
              "      <td>CASSLGQAYEQYF</td>\n",
              "      <td>UNK</td>\n",
              "      <td>UNK</td>\n",
              "      <td>TRBV7-8*01</td>\n",
              "      <td>TRBJ2-7*01</td>\n",
              "      <td>MHCI</td>\n",
              "      <td>EPLPQGQLTAY</td>\n",
              "      <td>BZLF1</td>\n",
              "      <td>HLA-B*35:01</td>\n",
              "      <td>0</td>\n",
              "    </tr>\n",
              "    <tr>\n",
              "      <th>4</th>\n",
              "      <td>UNK</td>\n",
              "      <td>CASSLYYSRPNTEAFF</td>\n",
              "      <td>UNK</td>\n",
              "      <td>UNK</td>\n",
              "      <td>TRBV5-1*01</td>\n",
              "      <td>TRBJ1-1*01</td>\n",
              "      <td>MHCI</td>\n",
              "      <td>GILGFVFTL</td>\n",
              "      <td>M</td>\n",
              "      <td>HLA-A*02:01</td>\n",
              "      <td>0</td>\n",
              "    </tr>\n",
              "  </tbody>\n",
              "</table>\n",
              "</div>\n",
              "      <button class=\"colab-df-convert\" onclick=\"convertToInteractive('df-e831e0a9-bbdf-47c6-b540-78cf25d099cf')\"\n",
              "              title=\"Convert this dataframe to an interactive table.\"\n",
              "              style=\"display:none;\">\n",
              "        \n",
              "  <svg xmlns=\"http://www.w3.org/2000/svg\" height=\"24px\"viewBox=\"0 0 24 24\"\n",
              "       width=\"24px\">\n",
              "    <path d=\"M0 0h24v24H0V0z\" fill=\"none\"/>\n",
              "    <path d=\"M18.56 5.44l.94 2.06.94-2.06 2.06-.94-2.06-.94-.94-2.06-.94 2.06-2.06.94zm-11 1L8.5 8.5l.94-2.06 2.06-.94-2.06-.94L8.5 2.5l-.94 2.06-2.06.94zm10 10l.94 2.06.94-2.06 2.06-.94-2.06-.94-.94-2.06-.94 2.06-2.06.94z\"/><path d=\"M17.41 7.96l-1.37-1.37c-.4-.4-.92-.59-1.43-.59-.52 0-1.04.2-1.43.59L10.3 9.45l-7.72 7.72c-.78.78-.78 2.05 0 2.83L4 21.41c.39.39.9.59 1.41.59.51 0 1.02-.2 1.41-.59l7.78-7.78 2.81-2.81c.8-.78.8-2.07 0-2.86zM5.41 20L4 18.59l7.72-7.72 1.47 1.35L5.41 20z\"/>\n",
              "  </svg>\n",
              "      </button>\n",
              "      \n",
              "  <style>\n",
              "    .colab-df-container {\n",
              "      display:flex;\n",
              "      flex-wrap:wrap;\n",
              "      gap: 12px;\n",
              "    }\n",
              "\n",
              "    .colab-df-convert {\n",
              "      background-color: #E8F0FE;\n",
              "      border: none;\n",
              "      border-radius: 50%;\n",
              "      cursor: pointer;\n",
              "      display: none;\n",
              "      fill: #1967D2;\n",
              "      height: 32px;\n",
              "      padding: 0 0 0 0;\n",
              "      width: 32px;\n",
              "    }\n",
              "\n",
              "    .colab-df-convert:hover {\n",
              "      background-color: #E2EBFA;\n",
              "      box-shadow: 0px 1px 2px rgba(60, 64, 67, 0.3), 0px 1px 3px 1px rgba(60, 64, 67, 0.15);\n",
              "      fill: #174EA6;\n",
              "    }\n",
              "\n",
              "    [theme=dark] .colab-df-convert {\n",
              "      background-color: #3B4455;\n",
              "      fill: #D2E3FC;\n",
              "    }\n",
              "\n",
              "    [theme=dark] .colab-df-convert:hover {\n",
              "      background-color: #434B5C;\n",
              "      box-shadow: 0px 1px 3px 1px rgba(0, 0, 0, 0.15);\n",
              "      filter: drop-shadow(0px 1px 2px rgba(0, 0, 0, 0.3));\n",
              "      fill: #FFFFFF;\n",
              "    }\n",
              "  </style>\n",
              "\n",
              "      <script>\n",
              "        const buttonEl =\n",
              "          document.querySelector('#df-e831e0a9-bbdf-47c6-b540-78cf25d099cf button.colab-df-convert');\n",
              "        buttonEl.style.display =\n",
              "          google.colab.kernel.accessAllowed ? 'block' : 'none';\n",
              "\n",
              "        async function convertToInteractive(key) {\n",
              "          const element = document.querySelector('#df-e831e0a9-bbdf-47c6-b540-78cf25d099cf');\n",
              "          const dataTable =\n",
              "            await google.colab.kernel.invokeFunction('convertToInteractive',\n",
              "                                                     [key], {});\n",
              "          if (!dataTable) return;\n",
              "\n",
              "          const docLinkHtml = 'Like what you see? Visit the ' +\n",
              "            '<a target=\"_blank\" href=https://colab.research.google.com/notebooks/data_table.ipynb>data table notebook</a>'\n",
              "            + ' to learn more about interactive tables.';\n",
              "          element.innerHTML = '';\n",
              "          dataTable['output_type'] = 'display_data';\n",
              "          await google.colab.output.renderOutput(dataTable, element);\n",
              "          const docLink = document.createElement('div');\n",
              "          docLink.innerHTML = docLinkHtml;\n",
              "          element.appendChild(docLink);\n",
              "        }\n",
              "      </script>\n",
              "    </div>\n",
              "  </div>\n",
              "  "
            ]
          },
          "metadata": {},
          "execution_count": 100
        }
      ],
      "source": [
        "df_train = pd.read_csv('https://raw.githubusercontent.com/liel-cohen/tcrdist_KNN/main/vdjdb_no10x_train_samples.csv', index_col=0)\n",
        "\n",
        "print('df_train.columns:', list(df_train.columns))\n",
        "df_train.head()"
      ]
    },
    {
      "cell_type": "markdown",
      "metadata": {
        "id": "GIf73D3XMMFV"
      },
      "source": [
        "Keep only TCRs that have CDR3a and CDR3b, specific to epitope presented on MHC class 1, specifically HLA-A*02"
      ]
    },
    {
      "cell_type": "code",
      "execution_count": null,
      "metadata": {
        "id": "sZ6iqd8VXbNp"
      },
      "outputs": [],
      "source": [
        "df_train = df_train.loc[df_train['sign'] == 1]\n",
        "df_train = df_train.loc[df_train['tcra'] != 'UNK']\n",
        "df_train = df_train.loc[df_train['mhc'].isin(['HLA-A*02', 'HLA-A*02:01'])]\n",
        "df_train = df_train.loc[df_train['t_cell_type']=='MHCI']"
      ]
    },
    {
      "cell_type": "markdown",
      "metadata": {
        "id": "Z6K3yCl1dP2_"
      },
      "source": [
        "Make some changes to df_train so it will match tcrdist3 input df format"
      ]
    },
    {
      "cell_type": "code",
      "execution_count": null,
      "metadata": {
        "id": "Ia3gbXv48J1A"
      },
      "outputs": [],
      "source": [
        "# add 'epitope' and 'count' columns\n",
        "df_train['count'] = 1\n",
        "\n",
        "# change some column names\n",
        "df_train.rename(columns={'va': 'v_a_gene', 'ja': 'j_a_gene',\n",
        "                         'vb': 'v_b_gene', 'jb': 'j_b_gene',\n",
        "                         'tcra': 'cdr3_a_aa', 'tcrb': 'cdr3_b_aa',\n",
        "                         'peptide': 'epitope'}, inplace=True)"
      ]
    },
    {
      "cell_type": "markdown",
      "metadata": {
        "id": "DHS7_EF7dpL-"
      },
      "source": [
        "Drop duplicate TCRs for each epitope *separately*"
      ]
    },
    {
      "cell_type": "code",
      "execution_count": null,
      "metadata": {
        "colab": {
          "base_uri": "https://localhost:8080/"
        },
        "id": "37DxqqYrcolF",
        "outputId": "ac560934-4c31-4d25-9550-e8c7fbbd61e2"
      },
      "outputs": [
        {
          "output_type": "stream",
          "name": "stdout",
          "text": [
            "The dataset contains 1279 TCRs for 13 different epitopes\n",
            "\n"
          ]
        }
      ],
      "source": [
        "n_orig = df_train.shape[0]\n",
        "print(f'The dataset contains {df_train.shape[0]} TCRs for {len(df_train[\"epitope\"].unique())} different epitopes\\n')"
      ]
    },
    {
      "cell_type": "code",
      "execution_count": null,
      "metadata": {
        "colab": {
          "base_uri": "https://localhost:8080/"
        },
        "id": "Vpc8ME0GrMnf",
        "outputId": "63e1972b-f295-436b-a4aa-5ed8c0b3aac8"
      },
      "outputs": [
        {
          "output_type": "stream",
          "name": "stdout",
          "text": [
            "Dropped 90 duplicate TCRs by columns ['epitope', 'cdr3_a_aa', 'v_a_gene', 'j_a_gene', 'cdr3_b_aa', 'v_b_gene', 'j_b_gene'].\n",
            "The new amount of TCRs per epitope:\n",
            "\n"
          ]
        },
        {
          "output_type": "execute_result",
          "data": {
            "text/plain": [
              "GILGFVFTL     523\n",
              "LLWNGPMAV     196\n",
              "NLVPMVATV     149\n",
              "GLCTLVAML     127\n",
              "CINGVCWTV      62\n",
              "ELAGIGILTV     46\n",
              "KLVALGINAV     30\n",
              "KLSALGINAV     20\n",
              "VAANIVLTV      13\n",
              "CVNGSCFTV      11\n",
              "YVLDHLIVV       8\n",
              "RMFPNAPYL       3\n",
              "KIFGSLAFL       1\n",
              "Name: epitope, dtype: int64"
            ]
          },
          "metadata": {},
          "execution_count": 104
        }
      ],
      "source": [
        "df_train = df_train.drop_duplicates(subset=drop_dup_cols, keep='first').copy()\n",
        "df_train.reset_index(drop=True, inplace=True)\n",
        "\n",
        "print(f'Dropped {n_orig - df_train.shape[0]} duplicate TCRs by columns {drop_dup_cols}.')\n",
        "print(f'The new amount of TCRs per epitope:\\n')\n",
        "df_train['epitope'].value_counts()"
      ]
    },
    {
      "cell_type": "markdown",
      "metadata": {
        "id": "8D8LF66iW-93"
      },
      "source": [
        "Drop epitopes with less than 60 TCRs"
      ]
    },
    {
      "cell_type": "code",
      "execution_count": null,
      "metadata": {
        "colab": {
          "base_uri": "https://localhost:8080/"
        },
        "id": "YGmDa763Z1Fh",
        "outputId": "24539bc9-e7af-4752-d0bb-9e6227b1382c"
      },
      "outputs": [
        {
          "output_type": "stream",
          "name": "stdout",
          "text": [
            "The new amount of TCRs per epitope, after dropping epitopes with less than 60 TCRs:\n",
            "\n"
          ]
        },
        {
          "output_type": "execute_result",
          "data": {
            "text/plain": [
              "GILGFVFTL    523\n",
              "LLWNGPMAV    196\n",
              "NLVPMVATV    149\n",
              "GLCTLVAML    127\n",
              "CINGVCWTV     62\n",
              "Name: epitope, dtype: int64"
            ]
          },
          "metadata": {},
          "execution_count": 105
        }
      ],
      "source": [
        "peptide_counts = df_train['epitope'].value_counts()\n",
        "peptide_list = peptide_counts[peptide_counts >= 60].index\n",
        "df_train = df_train[df_train['epitope'].isin(peptide_list)]\n",
        "df_train.reset_index(drop=True, inplace=True)\n",
        "\n",
        "print(f'The new amount of TCRs per epitope, after dropping epitopes with less than 60 TCRs:\\n')\n",
        "df_train['epitope'].value_counts()"
      ]
    },
    {
      "cell_type": "code",
      "source": [
        "df_train"
      ],
      "metadata": {
        "colab": {
          "base_uri": "https://localhost:8080/"
        },
        "id": "pNzlgD2RPFVA",
        "outputId": "a6d885ec-f323-41d9-d7b2-ba7ef2fd83e8"
      },
      "execution_count": null,
      "outputs": [
        {
          "output_type": "execute_result",
          "data": {
            "text/plain": [
              "              cdr3_a_aa         cdr3_b_aa     v_a_gene   j_a_gene  \\\n",
              "0        CAGAGGGSQGNLIF     CASSKRSTDTQYF    TRAV27*01  TRAJ42*01   \n",
              "1        CAGAEGGSQGNLIF     CASSIRSTGELFF    TRAV27*01  TRAJ42*01   \n",
              "2         CAGPGSNTGKLIF     CASSIRSSYEQYF    TRAV27*01  TRAJ37*01   \n",
              "3          CAEYSSASKIIF     CASSQSPGGTQYF     TRAV5*01   TRAJ3*01   \n",
              "4            CAVTSDKLIF    CASSAGTGAYEQYF  TRAV12-2*01  TRAJ34*01   \n",
              "...                 ...               ...          ...        ...   \n",
              "1052    CAGGGQGGSQGNLIF     CASSLYSNQPQHF    TRAV27*01  TRAJ42*01   \n",
              "1053  CAVDVSDRGSTLGRLYF     CASSGTSFTEQYF    TRAV22*01  TRAJ18*01   \n",
              "1054       CAHGGSQGNLIF     CASSIRSSYEQYF  TRAV12-2*01  TRAJ42*01   \n",
              "1055    CAGAIGSSNTGKLIF     CASSVRSSYEQYF    TRAV27*01  TRAJ37*01   \n",
              "1056     CALSGETSGSRLTF  CASGLVPGGVVYEQYF    TRAV19*01        NaN   \n",
              "\n",
              "         v_b_gene    j_b_gene t_cell_type    epitope protein          mhc  \\\n",
              "0       TRBV19*02  TRBJ2-3*01        MHCI  GILGFVFTL       M  HLA-A*02:01   \n",
              "1       TRBV19*01  TRBJ2-2*01        MHCI  GILGFVFTL       M  HLA-A*02:01   \n",
              "2       TRBV19*01  TRBJ2-7*01        MHCI  GILGFVFTL       M  HLA-A*02:01   \n",
              "3       TRBV14*01  TRBJ2-3*01        MHCI  GLCTLVAML   BMLF1  HLA-A*02:01   \n",
              "4        TRBV9*01  TRBJ2-7*01        MHCI  LLWNGPMAV    NS4B  HLA-A*02:01   \n",
              "...           ...         ...         ...        ...     ...          ...   \n",
              "1052    TRBV19*01  TRBJ1-5*01        MHCI  GILGFVFTL       M  HLA-A*02:01   \n",
              "1053    TRBV19*01  TRBJ2-7*01        MHCI  GILGFVFTL       M  HLA-A*02:01   \n",
              "1054    TRBV19*01  TRBJ2-7*01        MHCI  GILGFVFTL       M  HLA-A*02:01   \n",
              "1055    TRBV19*02  TRBJ2-7*01        MHCI  GILGFVFTL       M  HLA-A*02:01   \n",
              "1056  TRBV12-5*01  TRBJ2-7*01        MHCI  GILGFVFTL       M  HLA-A*02:01   \n",
              "\n",
              "      sign  count  \n",
              "0        1      1  \n",
              "1        1      1  \n",
              "2        1      1  \n",
              "3        1      1  \n",
              "4        1      1  \n",
              "...    ...    ...  \n",
              "1052     1      1  \n",
              "1053     1      1  \n",
              "1054     1      1  \n",
              "1055     1      1  \n",
              "1056     1      1  \n",
              "\n",
              "[1057 rows x 12 columns]"
            ],
            "text/html": [
              "\n",
              "  <div id=\"df-0e197187-a1fb-495b-8cdf-43c292dc2559\">\n",
              "    <div class=\"colab-df-container\">\n",
              "      <div>\n",
              "<style scoped>\n",
              "    .dataframe tbody tr th:only-of-type {\n",
              "        vertical-align: middle;\n",
              "    }\n",
              "\n",
              "    .dataframe tbody tr th {\n",
              "        vertical-align: top;\n",
              "    }\n",
              "\n",
              "    .dataframe thead th {\n",
              "        text-align: right;\n",
              "    }\n",
              "</style>\n",
              "<table border=\"1\" class=\"dataframe\">\n",
              "  <thead>\n",
              "    <tr style=\"text-align: right;\">\n",
              "      <th></th>\n",
              "      <th>cdr3_a_aa</th>\n",
              "      <th>cdr3_b_aa</th>\n",
              "      <th>v_a_gene</th>\n",
              "      <th>j_a_gene</th>\n",
              "      <th>v_b_gene</th>\n",
              "      <th>j_b_gene</th>\n",
              "      <th>t_cell_type</th>\n",
              "      <th>epitope</th>\n",
              "      <th>protein</th>\n",
              "      <th>mhc</th>\n",
              "      <th>sign</th>\n",
              "      <th>count</th>\n",
              "    </tr>\n",
              "  </thead>\n",
              "  <tbody>\n",
              "    <tr>\n",
              "      <th>0</th>\n",
              "      <td>CAGAGGGSQGNLIF</td>\n",
              "      <td>CASSKRSTDTQYF</td>\n",
              "      <td>TRAV27*01</td>\n",
              "      <td>TRAJ42*01</td>\n",
              "      <td>TRBV19*02</td>\n",
              "      <td>TRBJ2-3*01</td>\n",
              "      <td>MHCI</td>\n",
              "      <td>GILGFVFTL</td>\n",
              "      <td>M</td>\n",
              "      <td>HLA-A*02:01</td>\n",
              "      <td>1</td>\n",
              "      <td>1</td>\n",
              "    </tr>\n",
              "    <tr>\n",
              "      <th>1</th>\n",
              "      <td>CAGAEGGSQGNLIF</td>\n",
              "      <td>CASSIRSTGELFF</td>\n",
              "      <td>TRAV27*01</td>\n",
              "      <td>TRAJ42*01</td>\n",
              "      <td>TRBV19*01</td>\n",
              "      <td>TRBJ2-2*01</td>\n",
              "      <td>MHCI</td>\n",
              "      <td>GILGFVFTL</td>\n",
              "      <td>M</td>\n",
              "      <td>HLA-A*02:01</td>\n",
              "      <td>1</td>\n",
              "      <td>1</td>\n",
              "    </tr>\n",
              "    <tr>\n",
              "      <th>2</th>\n",
              "      <td>CAGPGSNTGKLIF</td>\n",
              "      <td>CASSIRSSYEQYF</td>\n",
              "      <td>TRAV27*01</td>\n",
              "      <td>TRAJ37*01</td>\n",
              "      <td>TRBV19*01</td>\n",
              "      <td>TRBJ2-7*01</td>\n",
              "      <td>MHCI</td>\n",
              "      <td>GILGFVFTL</td>\n",
              "      <td>M</td>\n",
              "      <td>HLA-A*02:01</td>\n",
              "      <td>1</td>\n",
              "      <td>1</td>\n",
              "    </tr>\n",
              "    <tr>\n",
              "      <th>3</th>\n",
              "      <td>CAEYSSASKIIF</td>\n",
              "      <td>CASSQSPGGTQYF</td>\n",
              "      <td>TRAV5*01</td>\n",
              "      <td>TRAJ3*01</td>\n",
              "      <td>TRBV14*01</td>\n",
              "      <td>TRBJ2-3*01</td>\n",
              "      <td>MHCI</td>\n",
              "      <td>GLCTLVAML</td>\n",
              "      <td>BMLF1</td>\n",
              "      <td>HLA-A*02:01</td>\n",
              "      <td>1</td>\n",
              "      <td>1</td>\n",
              "    </tr>\n",
              "    <tr>\n",
              "      <th>4</th>\n",
              "      <td>CAVTSDKLIF</td>\n",
              "      <td>CASSAGTGAYEQYF</td>\n",
              "      <td>TRAV12-2*01</td>\n",
              "      <td>TRAJ34*01</td>\n",
              "      <td>TRBV9*01</td>\n",
              "      <td>TRBJ2-7*01</td>\n",
              "      <td>MHCI</td>\n",
              "      <td>LLWNGPMAV</td>\n",
              "      <td>NS4B</td>\n",
              "      <td>HLA-A*02:01</td>\n",
              "      <td>1</td>\n",
              "      <td>1</td>\n",
              "    </tr>\n",
              "    <tr>\n",
              "      <th>...</th>\n",
              "      <td>...</td>\n",
              "      <td>...</td>\n",
              "      <td>...</td>\n",
              "      <td>...</td>\n",
              "      <td>...</td>\n",
              "      <td>...</td>\n",
              "      <td>...</td>\n",
              "      <td>...</td>\n",
              "      <td>...</td>\n",
              "      <td>...</td>\n",
              "      <td>...</td>\n",
              "      <td>...</td>\n",
              "    </tr>\n",
              "    <tr>\n",
              "      <th>1052</th>\n",
              "      <td>CAGGGQGGSQGNLIF</td>\n",
              "      <td>CASSLYSNQPQHF</td>\n",
              "      <td>TRAV27*01</td>\n",
              "      <td>TRAJ42*01</td>\n",
              "      <td>TRBV19*01</td>\n",
              "      <td>TRBJ1-5*01</td>\n",
              "      <td>MHCI</td>\n",
              "      <td>GILGFVFTL</td>\n",
              "      <td>M</td>\n",
              "      <td>HLA-A*02:01</td>\n",
              "      <td>1</td>\n",
              "      <td>1</td>\n",
              "    </tr>\n",
              "    <tr>\n",
              "      <th>1053</th>\n",
              "      <td>CAVDVSDRGSTLGRLYF</td>\n",
              "      <td>CASSGTSFTEQYF</td>\n",
              "      <td>TRAV22*01</td>\n",
              "      <td>TRAJ18*01</td>\n",
              "      <td>TRBV19*01</td>\n",
              "      <td>TRBJ2-7*01</td>\n",
              "      <td>MHCI</td>\n",
              "      <td>GILGFVFTL</td>\n",
              "      <td>M</td>\n",
              "      <td>HLA-A*02:01</td>\n",
              "      <td>1</td>\n",
              "      <td>1</td>\n",
              "    </tr>\n",
              "    <tr>\n",
              "      <th>1054</th>\n",
              "      <td>CAHGGSQGNLIF</td>\n",
              "      <td>CASSIRSSYEQYF</td>\n",
              "      <td>TRAV12-2*01</td>\n",
              "      <td>TRAJ42*01</td>\n",
              "      <td>TRBV19*01</td>\n",
              "      <td>TRBJ2-7*01</td>\n",
              "      <td>MHCI</td>\n",
              "      <td>GILGFVFTL</td>\n",
              "      <td>M</td>\n",
              "      <td>HLA-A*02:01</td>\n",
              "      <td>1</td>\n",
              "      <td>1</td>\n",
              "    </tr>\n",
              "    <tr>\n",
              "      <th>1055</th>\n",
              "      <td>CAGAIGSSNTGKLIF</td>\n",
              "      <td>CASSVRSSYEQYF</td>\n",
              "      <td>TRAV27*01</td>\n",
              "      <td>TRAJ37*01</td>\n",
              "      <td>TRBV19*02</td>\n",
              "      <td>TRBJ2-7*01</td>\n",
              "      <td>MHCI</td>\n",
              "      <td>GILGFVFTL</td>\n",
              "      <td>M</td>\n",
              "      <td>HLA-A*02:01</td>\n",
              "      <td>1</td>\n",
              "      <td>1</td>\n",
              "    </tr>\n",
              "    <tr>\n",
              "      <th>1056</th>\n",
              "      <td>CALSGETSGSRLTF</td>\n",
              "      <td>CASGLVPGGVVYEQYF</td>\n",
              "      <td>TRAV19*01</td>\n",
              "      <td>NaN</td>\n",
              "      <td>TRBV12-5*01</td>\n",
              "      <td>TRBJ2-7*01</td>\n",
              "      <td>MHCI</td>\n",
              "      <td>GILGFVFTL</td>\n",
              "      <td>M</td>\n",
              "      <td>HLA-A*02:01</td>\n",
              "      <td>1</td>\n",
              "      <td>1</td>\n",
              "    </tr>\n",
              "  </tbody>\n",
              "</table>\n",
              "<p>1057 rows × 12 columns</p>\n",
              "</div>\n",
              "      <button class=\"colab-df-convert\" onclick=\"convertToInteractive('df-0e197187-a1fb-495b-8cdf-43c292dc2559')\"\n",
              "              title=\"Convert this dataframe to an interactive table.\"\n",
              "              style=\"display:none;\">\n",
              "        \n",
              "  <svg xmlns=\"http://www.w3.org/2000/svg\" height=\"24px\"viewBox=\"0 0 24 24\"\n",
              "       width=\"24px\">\n",
              "    <path d=\"M0 0h24v24H0V0z\" fill=\"none\"/>\n",
              "    <path d=\"M18.56 5.44l.94 2.06.94-2.06 2.06-.94-2.06-.94-.94-2.06-.94 2.06-2.06.94zm-11 1L8.5 8.5l.94-2.06 2.06-.94-2.06-.94L8.5 2.5l-.94 2.06-2.06.94zm10 10l.94 2.06.94-2.06 2.06-.94-2.06-.94-.94-2.06-.94 2.06-2.06.94z\"/><path d=\"M17.41 7.96l-1.37-1.37c-.4-.4-.92-.59-1.43-.59-.52 0-1.04.2-1.43.59L10.3 9.45l-7.72 7.72c-.78.78-.78 2.05 0 2.83L4 21.41c.39.39.9.59 1.41.59.51 0 1.02-.2 1.41-.59l7.78-7.78 2.81-2.81c.8-.78.8-2.07 0-2.86zM5.41 20L4 18.59l7.72-7.72 1.47 1.35L5.41 20z\"/>\n",
              "  </svg>\n",
              "      </button>\n",
              "      \n",
              "  <style>\n",
              "    .colab-df-container {\n",
              "      display:flex;\n",
              "      flex-wrap:wrap;\n",
              "      gap: 12px;\n",
              "    }\n",
              "\n",
              "    .colab-df-convert {\n",
              "      background-color: #E8F0FE;\n",
              "      border: none;\n",
              "      border-radius: 50%;\n",
              "      cursor: pointer;\n",
              "      display: none;\n",
              "      fill: #1967D2;\n",
              "      height: 32px;\n",
              "      padding: 0 0 0 0;\n",
              "      width: 32px;\n",
              "    }\n",
              "\n",
              "    .colab-df-convert:hover {\n",
              "      background-color: #E2EBFA;\n",
              "      box-shadow: 0px 1px 2px rgba(60, 64, 67, 0.3), 0px 1px 3px 1px rgba(60, 64, 67, 0.15);\n",
              "      fill: #174EA6;\n",
              "    }\n",
              "\n",
              "    [theme=dark] .colab-df-convert {\n",
              "      background-color: #3B4455;\n",
              "      fill: #D2E3FC;\n",
              "    }\n",
              "\n",
              "    [theme=dark] .colab-df-convert:hover {\n",
              "      background-color: #434B5C;\n",
              "      box-shadow: 0px 1px 3px 1px rgba(0, 0, 0, 0.15);\n",
              "      filter: drop-shadow(0px 1px 2px rgba(0, 0, 0, 0.3));\n",
              "      fill: #FFFFFF;\n",
              "    }\n",
              "  </style>\n",
              "\n",
              "      <script>\n",
              "        const buttonEl =\n",
              "          document.querySelector('#df-0e197187-a1fb-495b-8cdf-43c292dc2559 button.colab-df-convert');\n",
              "        buttonEl.style.display =\n",
              "          google.colab.kernel.accessAllowed ? 'block' : 'none';\n",
              "\n",
              "        async function convertToInteractive(key) {\n",
              "          const element = document.querySelector('#df-0e197187-a1fb-495b-8cdf-43c292dc2559');\n",
              "          const dataTable =\n",
              "            await google.colab.kernel.invokeFunction('convertToInteractive',\n",
              "                                                     [key], {});\n",
              "          if (!dataTable) return;\n",
              "\n",
              "          const docLinkHtml = 'Like what you see? Visit the ' +\n",
              "            '<a target=\"_blank\" href=https://colab.research.google.com/notebooks/data_table.ipynb>data table notebook</a>'\n",
              "            + ' to learn more about interactive tables.';\n",
              "          element.innerHTML = '';\n",
              "          dataTable['output_type'] = 'display_data';\n",
              "          await google.colab.output.renderOutput(dataTable, element);\n",
              "          const docLink = document.createElement('div');\n",
              "          docLink.innerHTML = docLinkHtml;\n",
              "          element.appendChild(docLink);\n",
              "        }\n",
              "      </script>\n",
              "    </div>\n",
              "  </div>\n",
              "  "
            ]
          },
          "metadata": {},
          "execution_count": 106
        }
      ]
    },
    {
      "cell_type": "code",
      "source": [
        "tr = TCRrep(cell_df=df_train,\n",
        "            chains = chains,\n",
        "            organism=organism, \n",
        "            deduplicate=True)"
      ],
      "metadata": {
        "colab": {
          "base_uri": "https://localhost:8080/"
        },
        "id": "Qr-Y-ynvOzml",
        "outputId": "d0b859bc-3cd0-4650-f94f-2b18e2b4ccb2"
      },
      "execution_count": null,
      "outputs": [
        {
          "output_type": "stream",
          "name": "stderr",
          "text": [
            "/usr/local/lib/python3.7/dist-packages/tcrdist/repertoire.py:503: UserWarning: nan gene was not recognized in reference db no cdr seq could be inferred\n",
            "  attr ='cdrs')\n",
            "/usr/local/lib/python3.7/dist-packages/tcrdist/repertoire.py:507: UserWarning: nan gene was not recognized in reference db no cdr seq could be inferred\n",
            "  attr ='cdrs')\n",
            "/usr/local/lib/python3.7/dist-packages/tcrdist/repertoire.py:511: UserWarning: nan gene was not recognized in reference db no cdr seq could be inferred\n",
            "  attr ='cdrs')\n",
            "/usr/local/lib/python3.7/dist-packages/tcrdist/repertoire.py:190: UserWarning: Not all cells/sequences could be grouped into clones.39 of 1057 were not captured. This occurs when any of the values in the index columns are null or missing for a given sequence. To see entries with missing values use: tcrdist.repertoire.TCRrep._show_incomplete()\n",
            "  self.deduplicate()\n"
          ]
        }
      ]
    },
    {
      "cell_type": "markdown",
      "metadata": {
        "id": "5lvsRnqRfbOW"
      },
      "source": [
        "### Get tcrdist distances for training data"
      ]
    },
    {
      "cell_type": "markdown",
      "metadata": {
        "id": "ecwa3WEdeQ3q"
      },
      "source": [
        "*If asked to use all cdrs to compute tcrdist distances, can compute it when TCRrep object is initialized. If asked to use only CDR3, the TCRrep object metric parameters need to be altered before computing the distances."
      ]
    },
    {
      "cell_type": "code",
      "source": [
        "tr = TCRrep(cell_df=df_train,\n",
        "            chains = chains,\n",
        "            organism=organism, \n",
        "            deduplicate=True) # This step will remove any TCRs where we could not infer genes\n",
        "\n",
        "# <X> will be our matrix of distances, which will depend on <chains> and <cdrs>\n",
        "X = None\n",
        "if cdrs=='all':\n",
        "    if chains==['alpha', 'beta'] or chains==['beta', 'alpha']:\n",
        "        X = pd.DataFrame(tr.pw_alpha + tr.pw_beta)\n",
        "    elif chains==['alpha']:\n",
        "        X = pd.DataFrame(tr.pw_alpha)\n",
        "    elif chains==['beta']:\n",
        "        X = pd.DataFrame(tr.pw_beta)\n",
        "if cdrs=='cdr3':\n",
        "    if chains==['alpha', 'beta'] or chains==['beta', 'alpha']:\n",
        "        X = pd.DataFrame(tr.pw_cdr3_a_aa + tr.pw_cdr3_b_aa)\n",
        "    elif chains==['alpha']:\n",
        "        X = pd.DataFrame(tr.pw_cdr3_a_aa)\n",
        "    elif chains==['beta']:\n",
        "        X = pd.DataFrame(tr.pw_cdr3_b_aa)\n",
        "\n",
        "assert X is not None"
      ],
      "metadata": {
        "id": "eqFXM30jOe_7"
      },
      "execution_count": null,
      "outputs": []
    },
    {
      "cell_type": "code",
      "execution_count": null,
      "metadata": {
        "id": "Fjn3sVPqd016"
      },
      "outputs": [],
      "source": [
        "Y = pd.DataFrame(tr.clone_df['epitope']) # training data labels"
      ]
    },
    {
      "cell_type": "code",
      "execution_count": null,
      "metadata": {
        "id": "RttRtQE6fz0I"
      },
      "outputs": [],
      "source": [
        "# Make sure X and Y are valid\n",
        "assert X.shape[0] == X.shape[1], f'assert X shape is nXn: {X.shape[0]} == {X.shape[1]} ?'\n",
        "#assert X.shape[0] == df_train.shape[0], f'assert X dimension equals df_train dimension: {X.shape[0]} == {df_train.shape[0]} ?'\n",
        "assert X.shape[0] == Y.shape[0],  f'assert Y length = n: {X.shape[0]} == {Y.shape[0]} ?'\n",
        "\n",
        "X.index = list(X.index) # change from range to int\n",
        "Y.index = list(Y.index) # change from range to int\n",
        "assert (X.index.equals(Y.index)), f'assert X and Y indices are equal' "
      ]
    },
    {
      "cell_type": "markdown",
      "metadata": {
        "id": "ozEOAAridNYy"
      },
      "source": [
        "### Train KNN model"
      ]
    },
    {
      "cell_type": "code",
      "execution_count": null,
      "metadata": {
        "colab": {
          "base_uri": "https://localhost:8080/"
        },
        "id": "J7uWmOa_BhpT",
        "outputId": "917b5c1b-aeed-4b26-cc60-b6dbf1b242a9"
      },
      "outputs": [
        {
          "output_type": "execute_result",
          "data": {
            "text/plain": [
              "KNeighborsClassifier(metric='precomputed', weights='distance')"
            ]
          },
          "metadata": {},
          "execution_count": 111
        }
      ],
      "source": [
        "# train model on entire train set\n",
        "model = KNeighborsClassifier(n_neighbors=k_neighbours, metric='precomputed', weights='distance')\n",
        "model.fit(X, Y.values.ravel())"
      ]
    },
    {
      "cell_type": "markdown",
      "metadata": {
        "id": "bacLyIgCgwVu"
      },
      "source": [
        "## Test"
      ]
    },
    {
      "cell_type": "markdown",
      "metadata": {
        "id": "UVh5smtZhdaG"
      },
      "source": [
        "### Prepare test data"
      ]
    },
    {
      "cell_type": "code",
      "execution_count": null,
      "metadata": {
        "colab": {
          "base_uri": "https://localhost:8080/"
        },
        "id": "jeQqJl0vhdaG",
        "outputId": "6932d353-ef29-48f4-e753-13eb5c3f74c9"
      },
      "outputs": [
        {
          "output_type": "stream",
          "name": "stdout",
          "text": [
            "df_test.columns: ['tcrb', 'tcra', 'va', 'ja', 'vb', 'jb', 'peptide', 'protein', 'mhc', 't_cell_type', 'sign']\n"
          ]
        },
        {
          "output_type": "execute_result",
          "data": {
            "text/plain": [
              "                  tcrb             tcra          va   ja           vb  \\\n",
              "0    CASSKQGLGSTNEKLFF              UNK         UNK  UNK   TRBV6-1*01   \n",
              "1  CSATTQTLDRRIRTDTQYF              UNK         UNK  UNK  TRBV20-1*01   \n",
              "2      CATSRPVGEYTEAFF              UNK         UNK  UNK    TRBV15*01   \n",
              "3       CASSLAGVGNEQFF              UNK         UNK  UNK   TRBV7-3*01   \n",
              "4       CATRIGWGTDTQYF  CAVRDTNTNAGKSTF  TRAV1-1*01  NaN   TRBV5-1*01   \n",
              "\n",
              "           jb        peptide protein          mhc t_cell_type  sign  \n",
              "0  TRBJ1-4*01       TTPESANL     Tat    Mamu-A*01        MHCI     1  \n",
              "1  TRBJ2-3*01      NLVPMVATV    pp65     HLA-A*02        MHCI     0  \n",
              "2  TRBJ1-1*01       FLKEKGGL     Nef     HLA-B*08        MHCI     0  \n",
              "3  TRBJ2-1*01     FLGKIWPSHK     Gag  HLA-A*02:01        MHCI     0  \n",
              "4  TRBJ2-3*01  DPFRLLQNSQVFS      NP   HLA-DRA*01        MHCI     0  "
            ],
            "text/html": [
              "\n",
              "  <div id=\"df-72ae1ce8-e358-47ed-b94f-c14c3c35986f\">\n",
              "    <div class=\"colab-df-container\">\n",
              "      <div>\n",
              "<style scoped>\n",
              "    .dataframe tbody tr th:only-of-type {\n",
              "        vertical-align: middle;\n",
              "    }\n",
              "\n",
              "    .dataframe tbody tr th {\n",
              "        vertical-align: top;\n",
              "    }\n",
              "\n",
              "    .dataframe thead th {\n",
              "        text-align: right;\n",
              "    }\n",
              "</style>\n",
              "<table border=\"1\" class=\"dataframe\">\n",
              "  <thead>\n",
              "    <tr style=\"text-align: right;\">\n",
              "      <th></th>\n",
              "      <th>tcrb</th>\n",
              "      <th>tcra</th>\n",
              "      <th>va</th>\n",
              "      <th>ja</th>\n",
              "      <th>vb</th>\n",
              "      <th>jb</th>\n",
              "      <th>peptide</th>\n",
              "      <th>protein</th>\n",
              "      <th>mhc</th>\n",
              "      <th>t_cell_type</th>\n",
              "      <th>sign</th>\n",
              "    </tr>\n",
              "  </thead>\n",
              "  <tbody>\n",
              "    <tr>\n",
              "      <th>0</th>\n",
              "      <td>CASSKQGLGSTNEKLFF</td>\n",
              "      <td>UNK</td>\n",
              "      <td>UNK</td>\n",
              "      <td>UNK</td>\n",
              "      <td>TRBV6-1*01</td>\n",
              "      <td>TRBJ1-4*01</td>\n",
              "      <td>TTPESANL</td>\n",
              "      <td>Tat</td>\n",
              "      <td>Mamu-A*01</td>\n",
              "      <td>MHCI</td>\n",
              "      <td>1</td>\n",
              "    </tr>\n",
              "    <tr>\n",
              "      <th>1</th>\n",
              "      <td>CSATTQTLDRRIRTDTQYF</td>\n",
              "      <td>UNK</td>\n",
              "      <td>UNK</td>\n",
              "      <td>UNK</td>\n",
              "      <td>TRBV20-1*01</td>\n",
              "      <td>TRBJ2-3*01</td>\n",
              "      <td>NLVPMVATV</td>\n",
              "      <td>pp65</td>\n",
              "      <td>HLA-A*02</td>\n",
              "      <td>MHCI</td>\n",
              "      <td>0</td>\n",
              "    </tr>\n",
              "    <tr>\n",
              "      <th>2</th>\n",
              "      <td>CATSRPVGEYTEAFF</td>\n",
              "      <td>UNK</td>\n",
              "      <td>UNK</td>\n",
              "      <td>UNK</td>\n",
              "      <td>TRBV15*01</td>\n",
              "      <td>TRBJ1-1*01</td>\n",
              "      <td>FLKEKGGL</td>\n",
              "      <td>Nef</td>\n",
              "      <td>HLA-B*08</td>\n",
              "      <td>MHCI</td>\n",
              "      <td>0</td>\n",
              "    </tr>\n",
              "    <tr>\n",
              "      <th>3</th>\n",
              "      <td>CASSLAGVGNEQFF</td>\n",
              "      <td>UNK</td>\n",
              "      <td>UNK</td>\n",
              "      <td>UNK</td>\n",
              "      <td>TRBV7-3*01</td>\n",
              "      <td>TRBJ2-1*01</td>\n",
              "      <td>FLGKIWPSHK</td>\n",
              "      <td>Gag</td>\n",
              "      <td>HLA-A*02:01</td>\n",
              "      <td>MHCI</td>\n",
              "      <td>0</td>\n",
              "    </tr>\n",
              "    <tr>\n",
              "      <th>4</th>\n",
              "      <td>CATRIGWGTDTQYF</td>\n",
              "      <td>CAVRDTNTNAGKSTF</td>\n",
              "      <td>TRAV1-1*01</td>\n",
              "      <td>NaN</td>\n",
              "      <td>TRBV5-1*01</td>\n",
              "      <td>TRBJ2-3*01</td>\n",
              "      <td>DPFRLLQNSQVFS</td>\n",
              "      <td>NP</td>\n",
              "      <td>HLA-DRA*01</td>\n",
              "      <td>MHCI</td>\n",
              "      <td>0</td>\n",
              "    </tr>\n",
              "  </tbody>\n",
              "</table>\n",
              "</div>\n",
              "      <button class=\"colab-df-convert\" onclick=\"convertToInteractive('df-72ae1ce8-e358-47ed-b94f-c14c3c35986f')\"\n",
              "              title=\"Convert this dataframe to an interactive table.\"\n",
              "              style=\"display:none;\">\n",
              "        \n",
              "  <svg xmlns=\"http://www.w3.org/2000/svg\" height=\"24px\"viewBox=\"0 0 24 24\"\n",
              "       width=\"24px\">\n",
              "    <path d=\"M0 0h24v24H0V0z\" fill=\"none\"/>\n",
              "    <path d=\"M18.56 5.44l.94 2.06.94-2.06 2.06-.94-2.06-.94-.94-2.06-.94 2.06-2.06.94zm-11 1L8.5 8.5l.94-2.06 2.06-.94-2.06-.94L8.5 2.5l-.94 2.06-2.06.94zm10 10l.94 2.06.94-2.06 2.06-.94-2.06-.94-.94-2.06-.94 2.06-2.06.94z\"/><path d=\"M17.41 7.96l-1.37-1.37c-.4-.4-.92-.59-1.43-.59-.52 0-1.04.2-1.43.59L10.3 9.45l-7.72 7.72c-.78.78-.78 2.05 0 2.83L4 21.41c.39.39.9.59 1.41.59.51 0 1.02-.2 1.41-.59l7.78-7.78 2.81-2.81c.8-.78.8-2.07 0-2.86zM5.41 20L4 18.59l7.72-7.72 1.47 1.35L5.41 20z\"/>\n",
              "  </svg>\n",
              "      </button>\n",
              "      \n",
              "  <style>\n",
              "    .colab-df-container {\n",
              "      display:flex;\n",
              "      flex-wrap:wrap;\n",
              "      gap: 12px;\n",
              "    }\n",
              "\n",
              "    .colab-df-convert {\n",
              "      background-color: #E8F0FE;\n",
              "      border: none;\n",
              "      border-radius: 50%;\n",
              "      cursor: pointer;\n",
              "      display: none;\n",
              "      fill: #1967D2;\n",
              "      height: 32px;\n",
              "      padding: 0 0 0 0;\n",
              "      width: 32px;\n",
              "    }\n",
              "\n",
              "    .colab-df-convert:hover {\n",
              "      background-color: #E2EBFA;\n",
              "      box-shadow: 0px 1px 2px rgba(60, 64, 67, 0.3), 0px 1px 3px 1px rgba(60, 64, 67, 0.15);\n",
              "      fill: #174EA6;\n",
              "    }\n",
              "\n",
              "    [theme=dark] .colab-df-convert {\n",
              "      background-color: #3B4455;\n",
              "      fill: #D2E3FC;\n",
              "    }\n",
              "\n",
              "    [theme=dark] .colab-df-convert:hover {\n",
              "      background-color: #434B5C;\n",
              "      box-shadow: 0px 1px 3px 1px rgba(0, 0, 0, 0.15);\n",
              "      filter: drop-shadow(0px 1px 2px rgba(0, 0, 0, 0.3));\n",
              "      fill: #FFFFFF;\n",
              "    }\n",
              "  </style>\n",
              "\n",
              "      <script>\n",
              "        const buttonEl =\n",
              "          document.querySelector('#df-72ae1ce8-e358-47ed-b94f-c14c3c35986f button.colab-df-convert');\n",
              "        buttonEl.style.display =\n",
              "          google.colab.kernel.accessAllowed ? 'block' : 'none';\n",
              "\n",
              "        async function convertToInteractive(key) {\n",
              "          const element = document.querySelector('#df-72ae1ce8-e358-47ed-b94f-c14c3c35986f');\n",
              "          const dataTable =\n",
              "            await google.colab.kernel.invokeFunction('convertToInteractive',\n",
              "                                                     [key], {});\n",
              "          if (!dataTable) return;\n",
              "\n",
              "          const docLinkHtml = 'Like what you see? Visit the ' +\n",
              "            '<a target=\"_blank\" href=https://colab.research.google.com/notebooks/data_table.ipynb>data table notebook</a>'\n",
              "            + ' to learn more about interactive tables.';\n",
              "          element.innerHTML = '';\n",
              "          dataTable['output_type'] = 'display_data';\n",
              "          await google.colab.output.renderOutput(dataTable, element);\n",
              "          const docLink = document.createElement('div');\n",
              "          docLink.innerHTML = docLinkHtml;\n",
              "          element.appendChild(docLink);\n",
              "        }\n",
              "      </script>\n",
              "    </div>\n",
              "  </div>\n",
              "  "
            ]
          },
          "metadata": {},
          "execution_count": 112
        }
      ],
      "source": [
        "df_test = pd.read_csv('https://raw.githubusercontent.com/liel-cohen/tcrdist_KNN/main/vdjdb_no10x_test_samples.csv', index_col=0)\n",
        "\n",
        "print('df_test.columns:', list(df_test.columns))\n",
        "df_test.head()"
      ]
    },
    {
      "cell_type": "markdown",
      "metadata": {
        "id": "4Nooig5XL0Ul"
      },
      "source": [
        "Keep only TCRs that have CDR3a and CDR3b, specific to epitope presented on MHC class 1, specifically HLA-A*02"
      ]
    },
    {
      "cell_type": "code",
      "execution_count": null,
      "metadata": {
        "id": "jwuaaz7OKMrS"
      },
      "outputs": [],
      "source": [
        "df_test = df_test.loc[df_test['sign'] == 1]\n",
        "df_test = df_test.loc[df_test['tcra'] != 'UNK']\n",
        "df_test = df_test.loc[df_test['mhc'].isin(['HLA-A*02', 'HLA-A*02:01'])]\n",
        "df_test = df_test.loc[df_test['t_cell_type']=='MHCI']"
      ]
    },
    {
      "cell_type": "code",
      "execution_count": null,
      "metadata": {
        "colab": {
          "base_uri": "https://localhost:8080/"
        },
        "id": "30ysreddjZOS",
        "outputId": "63061c9e-a996-471b-9e02-348cb9df5d08"
      },
      "outputs": [
        {
          "output_type": "stream",
          "name": "stdout",
          "text": [
            "Test set contains 279 TCRs.\n"
          ]
        }
      ],
      "source": [
        "print(f'Test set contains {df_test.shape[0]} TCRs.')"
      ]
    },
    {
      "cell_type": "markdown",
      "metadata": {
        "id": "Eo_QxWDHhdaH"
      },
      "source": [
        "Make some changes to df_test so it will match tcrdist3 input df format"
      ]
    },
    {
      "cell_type": "code",
      "execution_count": null,
      "metadata": {
        "id": "oqBQp99ahdaH"
      },
      "outputs": [],
      "source": [
        "# add 'count' column\n",
        "df_test['count'] = 1\n",
        "\n",
        "# change some column names\n",
        "df_test.rename(columns={'va': 'v_a_gene', 'ja': 'j_a_gene',\n",
        "                         'vb': 'v_b_gene', 'jb': 'j_b_gene',\n",
        "                         'tcra': 'cdr3_a_aa', 'tcrb': 'cdr3_b_aa',\n",
        "                         'peptide': 'epitope'}, inplace=True)"
      ]
    },
    {
      "cell_type": "markdown",
      "metadata": {
        "id": "vEuAej1Pa4DX"
      },
      "source": [
        "Keep only epitopes included in the train set"
      ]
    },
    {
      "cell_type": "code",
      "execution_count": null,
      "metadata": {
        "id": "lfEf7gW3axx4"
      },
      "outputs": [],
      "source": [
        "peptide_list = list(df_train['epitope'].unique())\n",
        "df_test = df_test.loc[df_test['epitope'].isin(peptide_list)]\n",
        "df_test.reset_index(drop=True, inplace=True)"
      ]
    },
    {
      "cell_type": "markdown",
      "metadata": {
        "id": "u76uOrjdj4lr"
      },
      "source": [
        "### Get tcrdist distances between test TCRs and train TCRs\n",
        "*If asked to use all cdrs to compute tcrdist distances, compute it when TCRrep object is initialized. If asked to use only CDR3, the TCRrep object metric parameters need to be altered before computing the distances."
      ]
    },
    {
      "cell_type": "code",
      "execution_count": null,
      "metadata": {
        "id": "Uce3TCi4kihw",
        "colab": {
          "base_uri": "https://localhost:8080/"
        },
        "outputId": "034638b9-8c13-4259-b21d-e9fddd53d282"
      },
      "outputs": [
        {
          "output_type": "stream",
          "name": "stderr",
          "text": [
            "/usr/local/lib/python3.7/dist-packages/tcrdist/repertoire.py:190: UserWarning: Not all cells/sequences could be grouped into clones.9 of 257 were not captured. This occurs when any of the values in the index columns are null or missing for a given sequence. To see entries with missing values use: tcrdist.repertoire.TCRrep._show_incomplete()\n",
            "  self.deduplicate()\n"
          ]
        }
      ],
      "source": [
        "tcrrep_test = TCRrep(cell_df=df_test,\n",
        "                     organism=organism, \n",
        "                     chains=chains,\n",
        "                     deduplicate=True)\n",
        "\n",
        "tcrrep_test.compute_rect_distances(df=tcrrep_test.clone_df, \n",
        "                                    df2=tr.clone_df)\n",
        "\n",
        "# tcrrep_test = TCRrep(cell_df=df_test,\n",
        "#                      organism=organism, chains=chains,\n",
        "#                      compute_distances=False,\n",
        "#                      deduplicate=False,\n",
        "#                      infer_all_genes=True if cdrs=='all' else False,\n",
        "#                      infer_cdrs=True if cdrs=='all' else False)\n",
        "\n",
        "# assert tcrrep_test.clone_df.index.equals(df_test.index) # make sure no TCRs were dropped"
      ]
    },
    {
      "cell_type": "markdown",
      "metadata": {
        "id": "JcHyito4tAU4"
      },
      "source": [
        "Get distances matrix (X_test) between test and train TCRs"
      ]
    },
    {
      "cell_type": "code",
      "source": [
        "if cdrs=='all':\n",
        "  if chains==['alpha', 'beta'] or chains==['beta', 'alpha']:\n",
        "      X_test = pd.DataFrame(tcrrep_test.rw_alpha + tcrrep_test.rw_beta)\n",
        "  elif chains==['alpha']:\n",
        "      X_test = pd.DataFrame(tcrrep_test.rw_alpha)\n",
        "  elif chains==['beta']:\n",
        "      X_test = pd.DataFrame(tcrrep_test.rw_beta)\n",
        "\n",
        "if cdrs == \"cdr3\":\n",
        "  if chains==['alpha', 'beta'] or chains==['beta', 'alpha']:\n",
        "        X_test = pd.DataFrame(tcrrep_test.rw_cdr3_a_aa + tcrrep_test.rw_cdr3_b_aa)\n",
        "  elif chains==['alpha']:\n",
        "        X_test = pd.DataFrame(tcrrep_test.rw_cdr3_a_aa)\n",
        "  elif chains==['beta']:\n",
        "        X_test = pd.DataFrame(tcrrep_test.rw_cdr3_b_aa)  "
      ],
      "metadata": {
        "id": "XPMm9AHNTYPu"
      },
      "execution_count": null,
      "outputs": []
    },
    {
      "cell_type": "code",
      "execution_count": null,
      "metadata": {
        "id": "WSM2FGgGcLI8"
      },
      "outputs": [],
      "source": [
        "# assert dimensions are n_test X n_train\n",
        "#assert X_test.shape[0] == df_test.shape[0], f'assert X_test rows dimension equals df_test dimension: {X_test.shape[0]} == {df_test.shape[0]} ?'\n",
        "assert X_test.shape[1] == X.shape[0], f'assert X columns dimension equals X(train) dimension: {X.shape[0]} == {df_train.shape[0]} ?'"
      ]
    },
    {
      "cell_type": "code",
      "execution_count": null,
      "metadata": {
        "id": "yqyrFbbhMiUe"
      },
      "outputs": [],
      "source": [
        "# get predictions\n",
        "preds_prob = model.predict_proba(X_test)\n",
        "preds_labels = model.predict(X_test)\n",
        "\n",
        "# get test data labels\n",
        "Y_test = tcrrep_test.clone_df['epitope'] "
      ]
    },
    {
      "cell_type": "markdown",
      "metadata": {
        "id": "BLQmJZM7KWtr"
      },
      "source": [
        "### Plot results"
      ]
    },
    {
      "cell_type": "markdown",
      "metadata": {
        "id": "ZTBSQYIGwIwb"
      },
      "source": [
        "Calculate performance metrics"
      ]
    },
    {
      "cell_type": "code",
      "execution_count": null,
      "metadata": {
        "id": "O9x6QY1rkl0O"
      },
      "outputs": [],
      "source": [
        "metrics = {}\n",
        "metrics['accuracy'] = accuracy_score(Y_test, preds_labels)\n",
        "metrics['roc_auc'] = roc_auc_score(Y_test, pd.DataFrame(preds_prob, columns=model.classes_), average='macro', multi_class='ovr')\n",
        "\n",
        "metrics['confusion_matrix'] = pd.DataFrame(confusion_matrix(Y_test, preds_labels), columns=model.classes_, index=model.classes_)\n",
        "metrics['confusion_matrix_norm'] = pd.DataFrame(confusion_matrix(Y_test, preds_labels, normalize='true'), columns=model.classes_, index=model.classes_)\n",
        "\n",
        "metrics_df = pd.DataFrame(columns=model.classes_)\n",
        "metrics_df.loc['precision'] = precision_score(Y_test, preds_labels, average=None)\n",
        "metrics_df.loc['recall'] = recall_score(Y_test, preds_labels, average=None)\n",
        "metrics_df.loc['f1'] = f1_score(Y_test, preds_labels, average=None)"
      ]
    },
    {
      "cell_type": "markdown",
      "metadata": {
        "id": "_4ban9RX91LQ"
      },
      "source": [
        "Plot confusion matrix"
      ]
    },
    {
      "cell_type": "code",
      "execution_count": null,
      "metadata": {
        "colab": {
          "base_uri": "https://localhost:8080/",
          "height": 495
        },
        "id": "QMIku6ZvpV9D",
        "outputId": "6795f24b-c044-41eb-b20e-7c2ba37c4673"
      },
      "outputs": [
        {
          "output_type": "display_data",
          "data": {
            "text/plain": [
              "<Figure size 1008x504 with 4 Axes>"
            ],
            "image/png": "[encoded data removed]"
          },
          "metadata": {}
        }
      ],
      "source": [
        "fig, axes = plt.subplots(nrows=1, ncols=2, figsize=(14,7))\n",
        "sns.set_context(font_scale=1.1)\n",
        "sns.heatmap(metrics['confusion_matrix'], annot=True, cmap='Blues', fmt='', ax=axes[0], square=True, annot_kws={\"size\": 13})\n",
        "axes[0].set_xlabel('Predicted', fontsize=15)\n",
        "axes[0].set_ylabel('True', fontsize=15)\n",
        "axes[0].set_title('Confusion matrix', fontsize=17)\n",
        "for tick in axes[0].get_xticklabels():\n",
        "        tick.set_rotation(90)\n",
        "\n",
        "sns.heatmap(metrics['confusion_matrix_norm'], annot=True, cmap='Greens', fmt='.2f', ax=axes[1], square=True, annot_kws={\"size\": 13})\n",
        "axes[1].set_title('Confusion matrix, normalized', fontsize=17)\n",
        "axes[1].set_xlabel('Predicted', fontsize=15)\n",
        "axes[1].set_ylabel('True', fontsize=15)\n",
        "for tick in axes[1].get_xticklabels():\n",
        "        tick.set_rotation(90)\n",
        "\n",
        "for epi_ind in range(metrics['confusion_matrix'].shape[0]):\n",
        "    axes[0].add_patch(Rectangle((epi_ind, epi_ind), 1, 1, ec='black', fc='none', lw=1.5, clip_on=False))\n",
        "    axes[1].add_patch(Rectangle((epi_ind, epi_ind), 1, 1, ec='black', fc='none', lw=1.5, clip_on=False))\n",
        "\n",
        "plt.tight_layout()"
      ]
    },
    {
      "cell_type": "markdown",
      "metadata": {
        "id": "gUjbukSA99jj"
      },
      "source": [
        "Plot metrics (per epitope)"
      ]
    },
    {
      "cell_type": "code",
      "execution_count": null,
      "metadata": {
        "colab": {
          "base_uri": "https://localhost:8080/",
          "height": 323
        },
        "id": "sPyIbARGo301",
        "outputId": "7b337d69-9320-4c1c-c253-d4329da8da3a"
      },
      "outputs": [
        {
          "output_type": "display_data",
          "data": {
            "text/plain": [
              "<Figure size 936x288 with 2 Axes>"
            ],
            "image/png": "[encoded data removed]"
          },
          "metadata": {}
        }
      ],
      "source": [
        "plt.figure(figsize=(13,4))\n",
        "ax = sns.heatmap(metrics_df, annot=True, cmap='Reds', fmt='.2f', annot_kws={\"size\": 14}, vmin=0, vmax=1)\n",
        "ax.set_ylabel('Metric', fontsize=15)\n",
        "ax.set_xlabel('Epitope', fontsize=15)\n",
        "ax.set_title(f\"Metrics,        Accuracy: {metrics['accuracy']:.3f}, average AUC: {metrics['roc_auc']:.3f}\", fontsize=15)\n",
        "_ = ax.set_xticklabels([epi + f'\\n(n_test={(Y_test==epi).sum()})' for epi in metrics_df.columns])\n"
      ]
    },
    {
      "cell_type": "markdown",
      "metadata": {
        "id": "9VQERx4g-Gzm"
      },
      "source": [
        "Plot ROC curves"
      ]
    },
    {
      "cell_type": "code",
      "execution_count": null,
      "metadata": {
        "id": "pDUSziOlkl4G"
      },
      "outputs": [],
      "source": [
        "Y_matrix = pd.get_dummies(tcrrep_test.clone_df['epitope'])\n",
        "colors = ['red', 'dodgerblue', 'darkviolet', 'lightgreen', 'darkorange', 'mediumblue', 'maroon', 'teal', 'purple', 'green', 'deepskyblue', 'yellowgreen', 'lightcoral', 'gold', ]"
      ]
    },
    {
      "cell_type": "code",
      "source": [
        "# Get ROC curve info for each epitope\n",
        "fpr = dict()\n",
        "tpr = dict()\n",
        "roc_auc = dict()\n",
        "for i, ep in enumerate(model.classes_):\n",
        "    fpr[ep], tpr[ep], _ = roc_curve(Y_matrix.loc[:, ep], preds_prob[:, i])\n",
        "    roc_auc[ep] = auc(fpr[ep], tpr[ep])\n",
        "\n",
        "# Plot ROC curves\n",
        "fig, ax = plt.subplots(figsize=(8, 6))\n",
        "for ep, color in zip(model.classes_, colors):\n",
        "    ax.plot(fpr[ep], tpr[ep], color=color, lw=1.5, label=f'{ep} (AUC = {roc_auc[ep]:.3f})')\n",
        "plt.plot([0, 1], [0, 1], 'k--', lw=2)\n",
        "plt.xlim([-0.01, 1.0])\n",
        "plt.ylim([0.0, 1.01])\n",
        "plt.xlabel('False Positive Rate', fontsize=15)\n",
        "plt.ylabel('True Positive Rate', fontsize=15)\n",
        "plt.title('ROC curve for each epitope vs. all')\n",
        "plt.legend(bbox_to_anchor=(1.05, 1), loc=2, borderaxespad=0., frameon=False, title='Epitope')\n",
        "_ = plt.setp(ax.get_legend().get_title(), fontsize=15)"
      ],
      "metadata": {
        "colab": {
          "base_uri": "https://localhost:8080/",
          "height": 416
        },
        "id": "095YKaOulvuN",
        "outputId": "258a2837-4477-4337-86b9-e1b712ae41af"
      },
      "execution_count": null,
      "outputs": [
        {
          "output_type": "display_data",
          "data": {
            "text/plain": [
              "<Figure size 576x432 with 1 Axes>"
            ],
            "image/png": "[encoded data removed]"
          },
          "metadata": {}
        }
      ]
    },
    {
      "cell_type": "code",
      "source": [
        "from sklearn.metrics import precision_recall_curve\n",
        "\n",
        "# Get precision_recall curve info for each epitope\n",
        "precision_cur = dict()\n",
        "recall_cur = dict()\n",
        "pre_rec_auc = dict()\n",
        "for i, ep in enumerate(model.classes_):\n",
        "    precision_cur[ep], recall_cur[ep], _ = precision_recall_curve(Y_matrix.loc[:, ep], preds_prob[:, i])\n",
        "    pre_rec_auc[ep] = auc(recall_cur[ep], precision_cur[ep])\n",
        "\n",
        "# Plot precision_recall curves\n",
        "fig, ax = plt.subplots(figsize=(8, 6))\n",
        "for ep, color in zip(model.classes_, colors):\n",
        "    ax.plot(recall_cur[ep], precision_cur[ep], color=color, lw=1.5, label=f'{ep} (AUC = {pre_rec_auc[ep]:.3f})')\n",
        "plt.plot([0, 1], [0, 1], 'k--', lw=2)\n",
        "plt.xlim([-0.01, 1.0])\n",
        "plt.ylim([0.0, 1.01])\n",
        "plt.xlabel('Recall / TPR (tp / (tp + fn)', fontsize=15)\n",
        "plt.ylabel('Precision (tp / (tp + fp)', fontsize=15)\n",
        "plt.title('Precision-Recall curve for each epitope vs. all')\n",
        "plt.legend(bbox_to_anchor=(1.05, 1), loc=2, borderaxespad=0., frameon=False, title='Epitope')\n",
        "_ = plt.setp(ax.get_legend().get_title(), fontsize=15)"
      ],
      "metadata": {
        "colab": {
          "base_uri": "https://localhost:8080/",
          "height": 416
        },
        "id": "eYo3vWwrlz9H",
        "outputId": "c8f24e60-381f-4948-91fc-4dafa59d140d"
      },
      "execution_count": null,
      "outputs": [
        {
          "output_type": "display_data",
          "data": {
            "text/plain": [
              "<Figure size 576x432 with 1 Axes>"
            ],
            "image/png": "[encoded data removed]"
          },
          "metadata": {}
        }
      ]
    }
  ],
  "metadata": {
    "colab": {
      "collapsed_sections": [],
      "provenance": [],
      "include_colab_link": true
    },
    "kernelspec": {
      "display_name": "Python 3",
      "name": "python3"
    },
    "language_info": {
      "name": "python"
    }
  },
  "nbformat": 4,
  "nbformat_minor": 0
}